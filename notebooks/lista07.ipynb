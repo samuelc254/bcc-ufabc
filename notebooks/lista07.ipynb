{
 "cells": [
  {
   "cell_type": "markdown",
   "metadata": {},
   "source": [
    "Considere o arquivo no URL abaixo:\n",
    "\n",
    "https://drive.google.com/u/3/uc?id=1Ith2Jj9H1QTVrGtgVAWrjQw_DHnr5vcS&export=download\n",
    "\n",
    "Este banco de dados contém coeficientes a, b, e c da equação do segundo grau dada por:\n",
    "\n",
    "ax2 + bx + c = 0.\n",
    "\n",
    "(Obs.: as colunas desta tabela estão separadas por ponto e vírgula (;) e os números possuem vírgula (,) como marcador da casa decimal).\n",
    "\n",
    "Desenvolva um programa que carrega esta tabela e lê do teclado (com o comando input()) um valor numérico inteiro de 0 até 99 representando uma linha da tabela. Usando os coeficientes a, b, e c desta linha da tabela, imprima na tela a equação e logo em seguida um dos casos abaixo:\n",
    "\n",
    "as duas raízes reais separadas por vírgula, caso existam;\n",
    "a única raíz real, caso exista somente uma;\n",
    "a mensagem não existem raízes reais, caso não existam raízes reais.\n",
    "O programa deve imprimir os valores usando uma única casa decimal. Por exemplo, se os valores de a = −4.1, b = 9.2, e c = 5.8, você deve exibir:\n",
    "\n",
    "equaçao: (-4.1) x**2 + (9.2) x + (5.8)\n",
    "raízes: -0.5, 2.7"
   ]
  },
  {
   "cell_type": "code",
   "execution_count": 26,
   "metadata": {},
   "outputs": [
    {
     "name": "stdout",
     "output_type": "stream",
     "text": [
      "equaçao: (2.0) x**2 + (-1.9) x + (9.6)\n",
      "raízes: 0.5\n",
      "-72.0023\n",
      "-72.0\n"
     ]
    }
   ],
   "source": [
    "## Aluno: Samuel Oliveira Costa\n",
    "## RA: 11202320170\n",
    "\n",
    "import pandas as pd\n",
    "\n",
    "df = pd.read_csv(\"https://drive.google.com/u/3/uc?id=1Ith2Jj9H1QTVrGtgVAWrjQw_DHnr5vcS&export=download\", sep=\";\", decimal=\",\")\n",
    "\n",
    "index = int(input())\n",
    "\n",
    "constantes = df.loc[index]\n",
    "a = constantes[\"a\"]\n",
    "b = constantes[\"b\"]\n",
    "c = constantes[\"c\"]\n",
    "\n",
    "print(f\"equaçao: ({a:.1f}) x**2 + ({b:.1f}) x + ({c:.1f})\")\n",
    "\n",
    "delta = b * b - 4 * a * c\n",
    "if delta > 0:\n",
    "    r1 = (-b + delta**0.5) / (2 * a)\n",
    "    r2 = (-b - delta**0.5) / (2 * a)\n",
    "    print(f\"raízes: {r1:.1f}, {r2:.1f}\")\n",
    "elif delta < 0:\n",
    "    print(\"não existem raízes reais\")\n",
    "else:\n",
    "    r0 = -b / (2 * a)\n",
    "    print(f\"raízes: {r0:.1f}\")"
   ]
  }
 ],
 "metadata": {
  "kernelspec": {
   "display_name": "Python 3",
   "language": "python",
   "name": "python3"
  },
  "language_info": {
   "codemirror_mode": {
    "name": "ipython",
    "version": 3
   },
   "file_extension": ".py",
   "mimetype": "text/x-python",
   "name": "python",
   "nbconvert_exporter": "python",
   "pygments_lexer": "ipython3",
   "version": "3.10.13"
  }
 },
 "nbformat": 4,
 "nbformat_minor": 2
}
