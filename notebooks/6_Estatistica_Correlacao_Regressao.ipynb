{
  "cells": [
    {
      "cell_type": "markdown",
      "metadata": {
        "id": "lo5Xu3XCO-tV"
      },
      "source": [
        "# Correlação e Regressão - Introdução\n",
        "\n",
        "\n",
        "Na unidade anterior, vimos como calcular várias funções estatísticas para\n",
        "**um conjunto de dados**.\n",
        "\n",
        "Esta unidade será focada nas **relações entre dados**.\n",
        "\n",
        "Por exemplo, veja este gráfico.\n"
      ]
    },
    {
      "cell_type": "markdown",
      "metadata": {
        "id": "Hy0mnBcLtj9l"
      },
      "source": [
        "![image.png](data:image/png;base64,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)"
      ]
    },
    {
      "cell_type": "markdown",
      "metadata": {
        "id": "_2VO6NuNotZ_"
      },
      "source": [
        "\n",
        " Cada ponto representa um aluno:\n",
        " - na coordenada x, temos o número de horas estudadas pelo aluno;\n",
        " - na coordenada y, temos a nota na prova.\n",
        "\n",
        "**OBSERVAÇÃO IMPORTANTE:**\n",
        "\n",
        "Muitas vezes, na literatura,\n",
        "\n",
        "- a coluna/atributo representada no eixo horizontal x é chamada de **variável independente**,  e\n",
        "\n",
        "- a coluna/atributo representada no eixo vertical y é chamada de **variável dependente**.\n",
        "\n",
        "> O que você consegue perceber a partir desse gráfico?\n",
        "\n",
        "Fica bem claro que quanto mais horas estudadas, mais alta foi a nota em geral (com exceções!)\n",
        "\n",
        "Agora veja este gráfico."
      ]
    },
    {
      "cell_type": "markdown",
      "metadata": {
        "id": "9MjHNTRCuDyw"
      },
      "source": [
        "![image.png](data:image/png;base64,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)"
      ]
    },
    {
      "cell_type": "markdown",
      "metadata": {
        "id": "Zft2-klNuC3M"
      },
      "source": [
        "Novamente, cada ponto representa um aluno:\n",
        "- na coordenada x, temos o número de faltas;\n",
        "- na coordenada y, temos a nota na prova.\n",
        "\n",
        "> E agora o que você percebe?\n",
        "\n",
        "A situação é oposta! Quanto mais faltas, mais baixa tende a ser a nota em geral.\n",
        "\n",
        "E neste gráfico?"
      ]
    },
    {
      "cell_type": "markdown",
      "metadata": {
        "id": "0PaMTBv3uvig"
      },
      "source": [
        "![image.png](data:image/png;base64,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)"
      ]
    },
    {
      "cell_type": "markdown",
      "metadata": {
        "id": "y76DDyrNukat"
      },
      "source": [
        "- na coordenada x, temos o quanto o aluno gosta de chocolate;\n",
        "- na coordenada y, temos a nota na prova.\n",
        "\n",
        "Dá para ver que ~~infelizmente~~ claramente que gostar de chocolate tem pouco efeito na nota.\n",
        "\n",
        "Então, intuitivamente conseguimos entender quando dados são relacionados positivamente e negativamente.\n",
        "\n",
        "> Será possível quantificar a relação entre dois conjuntos de dados?\n",
        "\n"
      ]
    },
    {
      "cell_type": "markdown",
      "metadata": {
        "id": "xZVMA-Q2LBRi"
      },
      "source": [
        "<hr>"
      ]
    },
    {
      "cell_type": "markdown",
      "metadata": {
        "id": "Pz4r3dMiK7au"
      },
      "source": [
        "# Coeficiente de Correlação"
      ]
    },
    {
      "cell_type": "markdown",
      "metadata": {
        "id": "ax5bJHmjKyXN"
      },
      "source": [
        "Uma das funções estatísticas usada para isso é o **coeficiente de correlação** (de Pearson).\n",
        "\n",
        "Vamos ver o valor do coeficiente para os exemplos acima.\n",
        "\n",
        "Vamos começar importando algumas bibliotecas e a nossa planilha."
      ]
    },
    {
      "cell_type": "code",
      "execution_count": 2,
      "metadata": {
        "id": "A6m7JJGIRPCU"
      },
      "outputs": [],
      "source": [
        "import pandas as pd\n",
        "import numpy as np\n",
        "import matplotlib.pyplot as plt\n",
        "%matplotlib inline"
      ]
    },
    {
      "cell_type": "markdown",
      "metadata": {
        "id": "Y-lf-2J0SY7v"
      },
      "source": [
        "Aqui está a planilha:"
      ]
    },
    {
      "cell_type": "code",
      "execution_count": 9,
      "metadata": {
        "id": "TZD5G3yJSVpm"
      },
      "outputs": [
        {
          "data": {
            "text/html": [
              "<div>\n",
              "<style scoped>\n",
              "    .dataframe tbody tr th:only-of-type {\n",
              "        vertical-align: middle;\n",
              "    }\n",
              "\n",
              "    .dataframe tbody tr th {\n",
              "        vertical-align: top;\n",
              "    }\n",
              "\n",
              "    .dataframe thead th {\n",
              "        text-align: right;\n",
              "    }\n",
              "</style>\n",
              "<table border=\"1\" class=\"dataframe\">\n",
              "  <thead>\n",
              "    <tr style=\"text-align: right;\">\n",
              "      <th></th>\n",
              "      <th>Horas</th>\n",
              "      <th>Nota</th>\n",
              "      <th>Faltas</th>\n",
              "      <th>Chocolate</th>\n",
              "    </tr>\n",
              "  </thead>\n",
              "  <tbody>\n",
              "    <tr>\n",
              "      <th>0</th>\n",
              "      <td>39.58</td>\n",
              "      <td>100</td>\n",
              "      <td>1</td>\n",
              "      <td>73</td>\n",
              "    </tr>\n",
              "    <tr>\n",
              "      <th>1</th>\n",
              "      <td>15.26</td>\n",
              "      <td>30</td>\n",
              "      <td>6</td>\n",
              "      <td>89</td>\n",
              "    </tr>\n",
              "    <tr>\n",
              "      <th>2</th>\n",
              "      <td>14.10</td>\n",
              "      <td>20</td>\n",
              "      <td>8</td>\n",
              "      <td>58</td>\n",
              "    </tr>\n",
              "    <tr>\n",
              "      <th>3</th>\n",
              "      <td>7.52</td>\n",
              "      <td>31</td>\n",
              "      <td>7</td>\n",
              "      <td>45</td>\n",
              "    </tr>\n",
              "    <tr>\n",
              "      <th>4</th>\n",
              "      <td>20.21</td>\n",
              "      <td>62</td>\n",
              "      <td>2</td>\n",
              "      <td>99</td>\n",
              "    </tr>\n",
              "    <tr>\n",
              "      <th>...</th>\n",
              "      <td>...</td>\n",
              "      <td>...</td>\n",
              "      <td>...</td>\n",
              "      <td>...</td>\n",
              "    </tr>\n",
              "    <tr>\n",
              "      <th>95</th>\n",
              "      <td>16.45</td>\n",
              "      <td>45</td>\n",
              "      <td>5</td>\n",
              "      <td>104</td>\n",
              "    </tr>\n",
              "    <tr>\n",
              "      <th>96</th>\n",
              "      <td>39.32</td>\n",
              "      <td>84</td>\n",
              "      <td>1</td>\n",
              "      <td>43</td>\n",
              "    </tr>\n",
              "    <tr>\n",
              "      <th>97</th>\n",
              "      <td>21.79</td>\n",
              "      <td>61</td>\n",
              "      <td>2</td>\n",
              "      <td>41</td>\n",
              "    </tr>\n",
              "    <tr>\n",
              "      <th>98</th>\n",
              "      <td>27.63</td>\n",
              "      <td>62</td>\n",
              "      <td>1</td>\n",
              "      <td>74</td>\n",
              "    </tr>\n",
              "    <tr>\n",
              "      <th>99</th>\n",
              "      <td>10.71</td>\n",
              "      <td>28</td>\n",
              "      <td>6</td>\n",
              "      <td>62</td>\n",
              "    </tr>\n",
              "  </tbody>\n",
              "</table>\n",
              "<p>100 rows × 4 columns</p>\n",
              "</div>"
            ],
            "text/plain": [
              "    Horas  Nota  Faltas  Chocolate\n",
              "0   39.58   100       1         73\n",
              "1   15.26    30       6         89\n",
              "2   14.10    20       8         58\n",
              "3    7.52    31       7         45\n",
              "4   20.21    62       2         99\n",
              "..    ...   ...     ...        ...\n",
              "95  16.45    45       5        104\n",
              "96  39.32    84       1         43\n",
              "97  21.79    61       2         41\n",
              "98  27.63    62       1         74\n",
              "99  10.71    28       6         62\n",
              "\n",
              "[100 rows x 4 columns]"
            ]
          },
          "execution_count": 9,
          "metadata": {},
          "output_type": "execute_result"
        }
      ],
      "source": [
        "df = pd.read_csv(\"https://drive.google.com/u/1/uc?id=1pygGDM-F4quUo2Jl4ri-vJosb3FkRQNx&export=download\")\n",
        "df"
      ]
    },
    {
      "cell_type": "markdown",
      "metadata": {
        "id": "FdQ1tUqMwday"
      },
      "source": [
        "**Para calcular o coeficiente de correlação entre Horas e Nota, usamos a função ``corr``:**"
      ]
    },
    {
      "cell_type": "code",
      "execution_count": 4,
      "metadata": {
        "id": "wgCl7UYOxMlI"
      },
      "outputs": [
        {
          "data": {
            "text/plain": [
              "np.float64(0.9336701555689484)"
            ]
          },
          "execution_count": 4,
          "metadata": {},
          "output_type": "execute_result"
        }
      ],
      "source": [
        "df['Horas'].corr(df['Nota'])"
      ]
    },
    {
      "cell_type": "markdown",
      "metadata": {
        "id": "MYK23sfTxbHP"
      },
      "source": [
        "**Veja que a ordem não faz diferença!**"
      ]
    },
    {
      "cell_type": "code",
      "execution_count": 5,
      "metadata": {
        "id": "BeM7ozKbxnhK"
      },
      "outputs": [
        {
          "data": {
            "text/plain": [
              "np.float64(0.9336701555689483)"
            ]
          },
          "execution_count": 5,
          "metadata": {},
          "output_type": "execute_result"
        }
      ],
      "source": [
        "df['Nota'].corr(df['Horas'])"
      ]
    },
    {
      "cell_type": "markdown",
      "metadata": {
        "id": "Fuy4vOge5z6j"
      },
      "source": [
        "OBSERVAÇÃO:\n",
        "\n",
        "poderia colocar os nomes de atributos entre aspas duplas também:"
      ]
    },
    {
      "cell_type": "code",
      "execution_count": 6,
      "metadata": {
        "id": "NpkQkqDQ6FCX"
      },
      "outputs": [
        {
          "data": {
            "text/plain": [
              "np.float64(0.9336701555689483)"
            ]
          },
          "execution_count": 6,
          "metadata": {},
          "output_type": "execute_result"
        }
      ],
      "source": [
        "df[\"Nota\"].corr(df[\"Horas\"])"
      ]
    },
    {
      "cell_type": "markdown",
      "metadata": {
        "id": "hU39WLGNSjy1"
      },
      "source": [
        "Como você pode ver, o valor é positivo.\n",
        "\n",
        "Quando isso acontece, isso significa que os valores tendem a crescer juntos.\n",
        "\n",
        "Nesse caso, dizemos que os valores são **positivamente correlacionados**.\n",
        "\n",
        "Assim, no nosso exemplo, a quantidade de horas de estudo e a nota na prova são positivamente correlacionados.\n",
        "\n",
        "Para Faltas e Nota, temos a relação oposta:"
      ]
    },
    {
      "cell_type": "code",
      "execution_count": 7,
      "metadata": {
        "id": "Yupp4qiGWKiU"
      },
      "outputs": [
        {
          "data": {
            "text/plain": [
              "np.float64(-0.9262833152379718)"
            ]
          },
          "execution_count": 7,
          "metadata": {},
          "output_type": "execute_result"
        }
      ],
      "source": [
        "df['Faltas'].corr(df['Nota'])"
      ]
    },
    {
      "cell_type": "markdown",
      "metadata": {
        "id": "N20ObzpjWscz"
      },
      "source": [
        "Como você pode ver, o coeficiente é negativo.\n",
        "\n",
        "Quando isso acontece, isso significa que quando os valores no eixo x crescem, o valores no eixo y tendem a diminuir (e vice-versa).\n",
        "\n",
        "Nesse caso, dizemos que os valores são **negativamente correlacionados**.\n",
        "\n",
        "Assim, no nosso exemplo, as faltas e a nota na prova são negativamente correlacionadas.\n",
        "\n",
        "E para Chocolate e Nota, em que há pouca relação entre os valores?"
      ]
    },
    {
      "cell_type": "code",
      "execution_count": 8,
      "metadata": {
        "id": "EE2VckYWXovT"
      },
      "outputs": [
        {
          "data": {
            "text/plain": [
              "np.float64(0.05395381834782139)"
            ]
          },
          "execution_count": 8,
          "metadata": {},
          "output_type": "execute_result"
        }
      ],
      "source": [
        "df['Chocolate'].corr(df['Nota'])"
      ]
    },
    {
      "cell_type": "markdown",
      "metadata": {
        "id": "1-B4w1YlXvQS"
      },
      "source": [
        "O valor obtido é próximo de zero!\n",
        "\n",
        "O coeficiente de correlação é sempre um valor entre -1 e 1 e pode ser interpretado da seguinte forma:\n",
        "- **Quanto mais perto de 1, mais fortemente positivamente correlacionados são os dados.**\n",
        "- **Quanto mais perto de -1, mais fortemente negativamente correlacionados são os dados.**\n",
        "- **Quanto mais perto de 0, mais fracamente os dados são relacionados linearmente.**\n",
        "\n",
        "Como um guia inicial, você pode se basear nos seguintes valores (independente do sinal):\n",
        "- 0.00 a 0.19 - Correlação muito fraca.\n",
        "- 0.20 a 0.39 - Correlação fraca.\n",
        "- 0.40 a 0.69 - Correlação moderada.\n",
        "- 0.70 a 0.89 - Correlação forte.\n",
        "- 0.90 a 1.00 - Correlação muito forte.\n",
        "\n",
        "Na prática, quais valores são considerados fracos ou fortes depende da aplicação."
      ]
    },
    {
      "cell_type": "markdown",
      "metadata": {
        "id": "fr3Di2TmaC2j"
      },
      "source": [
        "Um ponto importante é que o coeficiente de correlação é apenas uma **medida** da relação, mas não nos explica a **natureza** dessa relação:\n",
        "\n",
        "- Será que estudar mais horas para a prova foi o que causou a nota boa?\n",
        "\n",
        "- Será que faltar mais foi o que causou a nota baixa?"
      ]
    },
    {
      "cell_type": "markdown",
      "metadata": {
        "id": "yjPRbszcZ1bo"
      },
      "source": [
        "## Exercício\n",
        "Considere a planilha neste link:\n",
        "\n",
        "https://drive.google.com/u/1/uc?id=1ASOWhw5tp-kUbZcIlkg5eCKwZNJt6MwQ&export=download\n",
        "\n",
        "Leia a planilha e calcule o coeficiente de correlação entre\n",
        "- Prova 1 e Prova 2\n",
        "- Prova 1 e Trabalho\n",
        "- Prova 2 e Trabalho\n",
        "\n",
        "> Quais é o par mais fortemente correlacionado?"
      ]
    },
    {
      "cell_type": "code",
      "execution_count": 7,
      "metadata": {
        "id": "GdEhpL0NZ04D"
      },
      "outputs": [
        {
          "name": "stdout",
          "output_type": "stream",
          "text": [
            "0.9111954369625983\n",
            "0.39333492928005365\n",
            "0.4392817985759364\n"
          ]
        }
      ],
      "source": [
        "# Sua resposta\n",
        "df = pd.read_csv(\"https://drive.google.com/u/1/uc?id=1ASOWhw5tp-kUbZcIlkg5eCKwZNJt6MwQ&export=download\")\n",
        "print(df[\"Prova 1\"].corr(df[\"Prova 2\"]))\n",
        "print(df[\"Prova 1\"].corr(df[\"Trabalho\"]))\n",
        "print(df[\"Prova 2\"].corr(df[\"Trabalho\"]))"
      ]
    },
    {
      "cell_type": "markdown",
      "metadata": {
        "id": "whLmmUuZafse"
      },
      "source": [
        "<hr>"
      ]
    },
    {
      "cell_type": "markdown",
      "metadata": {
        "id": "K5kx0_71bbxi"
      },
      "source": [
        "# Regressão linear\n",
        "\n"
      ]
    },
    {
      "cell_type": "markdown",
      "metadata": {
        "id": "luFXHp_r16U3"
      },
      "source": [
        "Gráficos como o seguinte são chamados de **gráficos de dispersão**:\n",
        "\n",
        "![image.png](data:image/png;base64,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)"
      ]
    },
    {
      "cell_type": "markdown",
      "metadata": {
        "id": "DB9YrlDr43qq"
      },
      "source": [
        "Eles são criados facilmente utilizando o função ``plot`` do ``matplotlib.pyplot``."
      ]
    },
    {
      "cell_type": "markdown",
      "metadata": {
        "id": "2lxWTewUI7Z3"
      },
      "source": [
        "Para acessar a coluna Horas da planilha, fazemos assim:"
      ]
    },
    {
      "cell_type": "code",
      "execution_count": 10,
      "metadata": {
        "id": "yiEVjCGZI7Z4"
      },
      "outputs": [
        {
          "data": {
            "text/plain": [
              "0     39.58\n",
              "1     15.26\n",
              "2     14.10\n",
              "3      7.52\n",
              "4     20.21\n",
              "      ...  \n",
              "95    16.45\n",
              "96    39.32\n",
              "97    21.79\n",
              "98    27.63\n",
              "99    10.71\n",
              "Name: Horas, Length: 100, dtype: float64"
            ]
          },
          "execution_count": 10,
          "metadata": {},
          "output_type": "execute_result"
        }
      ],
      "source": [
        "df[\"Horas\"]"
      ]
    },
    {
      "cell_type": "markdown",
      "metadata": {
        "id": "TgqygLX1I7Z5"
      },
      "source": [
        "E similarmente para a Nota:"
      ]
    },
    {
      "cell_type": "code",
      "execution_count": null,
      "metadata": {
        "id": "XH7agLPgI7Z6"
      },
      "outputs": [],
      "source": [
        "df[\"Nota\"]"
      ]
    },
    {
      "cell_type": "markdown",
      "metadata": {
        "id": "v6G77St2I7Z8"
      },
      "source": [
        "Vamos guardar a coluna de Horas em uma variável ``x`` e a coluna de Nota em uma variável ``y``:"
      ]
    },
    {
      "cell_type": "code",
      "execution_count": 11,
      "metadata": {
        "id": "43NCo1thI7Z8"
      },
      "outputs": [],
      "source": [
        "x = df[\"Horas\"]\n",
        "y = df[\"Nota\"]"
      ]
    },
    {
      "cell_type": "markdown",
      "metadata": {
        "id": "us196ngII7Z-"
      },
      "source": [
        "Agora podemos fazer o gráfico como temos feito até agora:"
      ]
    },
    {
      "cell_type": "code",
      "execution_count": 12,
      "metadata": {
        "id": "yeGs8imhI7Z-"
      },
      "outputs": [
        {
          "data": {
            "text/plain": [
              "[<matplotlib.lines.Line2D at 0x73b596e587f0>]"
            ]
          },
          "execution_count": 12,
          "metadata": {},
          "output_type": "execute_result"
        },
        {
          "data": {
            "image/png": "[encoded data removed]",
            "text/plain": [
              "<Figure size 640x480 with 1 Axes>"
            ]
          },
          "metadata": {},
          "output_type": "display_data"
        }
      ],
      "source": [
        "plt.plot(x,y,'.')"
      ]
    },
    {
      "cell_type": "markdown",
      "metadata": {
        "id": "3vsH87znI7aA"
      },
      "source": [
        "Ou até mesmo fazer direto sem as variáveis ``x`` e ``y``:"
      ]
    },
    {
      "cell_type": "code",
      "execution_count": null,
      "metadata": {
        "id": "3uy_RZnQI7aA"
      },
      "outputs": [],
      "source": [
        "plt.plot(df[\"Horas\"],df[\"Nota\"],'.')"
      ]
    },
    {
      "cell_type": "markdown",
      "metadata": {
        "id": "JKzj51Rb6f8k"
      },
      "source": [
        "OBSERVAÇÃO:\n",
        "\n",
        "poderia colocar os nomes de atributos entre aspas simples também:\n"
      ]
    },
    {
      "cell_type": "code",
      "execution_count": 13,
      "metadata": {
        "id": "KK_o3a4M6slM"
      },
      "outputs": [
        {
          "data": {
            "text/plain": [
              "[<matplotlib.lines.Line2D at 0x73b596fdab90>]"
            ]
          },
          "execution_count": 13,
          "metadata": {},
          "output_type": "execute_result"
        },
        {
          "data": {
            "image/png": "[encoded data removed]",
            "text/plain": [
              "<Figure size 640x480 with 1 Axes>"
            ]
          },
          "metadata": {},
          "output_type": "display_data"
        }
      ],
      "source": [
        "plt.plot(df['Horas'],df['Nota'],'.')\n"
      ]
    },
    {
      "cell_type": "markdown",
      "metadata": {
        "id": "PQXhx9CTb5eu"
      },
      "source": [
        "Cada ponto corresponde a uma entrada de dados.\n",
        "\n",
        "No nosso exemplo, cada ponto corresponde a um aluno e\n",
        " - na coordenada x, temos o número de horas estudadas pelo aluno;\n",
        " - na coordenada y, temos a nota na prova.\n",
        "\n",
        "Como vimos o número de horas e a nota tem coeficiente de correlação próximo a $+1$, o que indica que são fortemente positivamente correlacionados.\n",
        "\n",
        "Suponha que você queira fazer uma predição a partir desse conjunto de dados.\n",
        "\n",
        "> Se você estudar 15 horas, qual seria uma boa predição para a sua nota?\n",
        "\n",
        "Uma possível abordagem é criar uma **reta de regressão linear**.\n",
        "\n",
        "Essa é a reta que melhor se ***encaixa*** nos dados\n",
        "\n",
        "(matematicamente, ela minimiza a soma das distância ao quadrado dos pontos para a reta).\n",
        "\n",
        "Para relembrar: uma reta tem a fórmula\n",
        "$$y = ax+b,$$\n",
        "onde $a$ é a inclinação e $b$ é o intercepto (o valor de y para $x=0$)\n",
        "\n",
        "**A biblioteca ``numpy`` calcula para nós os valores de $a$ e $b$ para a reta de regressão linear:**"
      ]
    },
    {
      "cell_type": "code",
      "execution_count": 14,
      "metadata": {
        "id": "P4fkv6FOb5FV"
      },
      "outputs": [
        {
          "name": "stdout",
          "output_type": "stream",
          "text": [
            "2.2489183222489713 7.888913148879797\n"
          ]
        }
      ],
      "source": [
        "(a, b) = np.polyfit(x=df[\"Horas\"], y=df[\"Nota\"], deg = 1)\n",
        "print(a,b)"
      ]
    },
    {
      "cell_type": "markdown",
      "metadata": {
        "id": "asVlBwor56P2"
      },
      "source": [
        "O ``deg = 1`` serve para indicar que é uma reta (uma reta é um polinômio de grau $1$, portanto, estamos especificando que queremos grau $1$).\n",
        "\n",
        "Agora que temos os valores de $a$ e $b$ é fácil de fazer uma predição para a nota com $15$ horas de estudos.\n",
        "\n",
        "Utilizando a fórmula:\n",
        "$$y=ax+b$$\n",
        "e lembrando que a Nota se refere ao eixo y e as Horas ao eixo x, basta substituir o valor de x por 15:"
      ]
    },
    {
      "cell_type": "code",
      "execution_count": 15,
      "metadata": {
        "id": "_QW3NKnH61w_"
      },
      "outputs": [
        {
          "data": {
            "text/plain": [
              "np.float64(41.622687982614366)"
            ]
          },
          "execution_count": 15,
          "metadata": {},
          "output_type": "execute_result"
        }
      ],
      "source": [
        "a*15+b"
      ]
    },
    {
      "cell_type": "markdown",
      "metadata": {
        "id": "Yh_yG-3K69i3"
      },
      "source": [
        "Ou seja, a predição para a Nota para 15 horas de estudo é de 41.62."
      ]
    },
    {
      "cell_type": "markdown",
      "metadata": {
        "id": "aSaQ-ET37FY-"
      },
      "source": [
        "## Exercício\n",
        "\n",
        "Considere a planilha neste link:\n",
        "\n",
        "https://drive.google.com/u/1/uc?id=1ASOWhw5tp-kUbZcIlkg5eCKwZNJt6MwQ&export=download\n",
        "\n",
        "- Quais são os valores de $a$ e $b$ para a reta $ax+b$ de regressão linear com a Prova 1 no eixo x e a Prova 2 no eixo y?\n",
        "\n",
        "- Qual seria a predição baseada nessa reta para a nota na Prova 2 se a nota na Prova 1 for 65?\n"
      ]
    },
    {
      "cell_type": "code",
      "execution_count": null,
      "metadata": {
        "id": "Qum07eNr7FJD"
      },
      "outputs": [],
      "source": [
        "# Sua resposta\n"
      ]
    },
    {
      "cell_type": "markdown",
      "metadata": {
        "id": "M5_8U2-vakEb"
      },
      "source": [
        "<hr>"
      ]
    },
    {
      "cell_type": "markdown",
      "metadata": {
        "id": "HzqmUCAf7KHS"
      },
      "source": [
        "# Gráfico\n",
        "\n",
        "Visualmente, é muito útil ter um gráfico da reta de regressão linear junto com o gráfico de dispersão.\n",
        "\n",
        "Como fazer um gráfico da reta?\n",
        "\n",
        "Basta calcular os valores para os extremos do segmento da reta no gráfico.\n",
        "\n",
        "Escolhemos 0 e 50 para os pontos no eixo x e calculamos os valores de y usando a fórmula da reta.\n",
        "\n",
        "Em seguida basta fazer o gráfico."
      ]
    },
    {
      "cell_type": "code",
      "execution_count": 16,
      "metadata": {
        "id": "WjsiToNP3zqH"
      },
      "outputs": [
        {
          "data": {
            "text/plain": [
              "[<matplotlib.lines.Line2D at 0x73b596ea3a90>]"
            ]
          },
          "execution_count": 16,
          "metadata": {},
          "output_type": "execute_result"
        },
        {
          "data": {
            "image/png": "[encoded data removed]",
            "text/plain": [
              "<Figure size 640x480 with 1 Axes>"
            ]
          },
          "metadata": {},
          "output_type": "display_data"
        }
      ],
      "source": [
        "x0 = 0\n",
        "x1 = 50\n",
        "y0 = a*x0 + b\n",
        "y1 = a*x1 + b\n",
        "plt.plot([x0,x1],[y0,y1],'r')"
      ]
    },
    {
      "cell_type": "markdown",
      "metadata": {
        "id": "4pt9CWyw8Vvc"
      },
      "source": [
        "Ou:"
      ]
    },
    {
      "cell_type": "code",
      "execution_count": 18,
      "metadata": {
        "id": "_Zp8dOdr35ev"
      },
      "outputs": [
        {
          "data": {
            "text/plain": [
              "[<matplotlib.lines.Line2D at 0x73b596d959c0>]"
            ]
          },
          "execution_count": 18,
          "metadata": {},
          "output_type": "execute_result"
        },
        {
          "data": {
            "image/png": "[encoded data removed]",
            "text/plain": [
              "<Figure size 640x480 with 1 Axes>"
            ]
          },
          "metadata": {},
          "output_type": "display_data"
        }
      ],
      "source": [
        "x = np.arange(0,51)\n",
        "y = a*x+b\n",
        "plt.plot(x,y)"
      ]
    },
    {
      "cell_type": "markdown",
      "metadata": {
        "id": "yZO0P9zj2zl4"
      },
      "source": [
        "> Para pensar: qual a diferença dessas duas maneiras?\n"
      ]
    },
    {
      "cell_type": "markdown",
      "metadata": {
        "id": "skjuuKFH8mJc"
      },
      "source": [
        "Por fim, juntamos o gráfico de dispersão com o gráfico da reta.\n",
        "\n",
        "Veja como a reta se encaixa bem nos nossos dados."
      ]
    },
    {
      "cell_type": "code",
      "execution_count": 19,
      "metadata": {
        "id": "uxiS7NYr8r0v"
      },
      "outputs": [
        {
          "data": {
            "text/plain": [
              "[<matplotlib.lines.Line2D at 0x73b596df7580>]"
            ]
          },
          "execution_count": 19,
          "metadata": {},
          "output_type": "execute_result"
        },
        {
          "data": {
            "image/png": "[encoded data removed]",
            "text/plain": [
              "<Figure size 640x480 with 1 Axes>"
            ]
          },
          "metadata": {},
          "output_type": "display_data"
        }
      ],
      "source": [
        "# relendo a planilha\n",
        "df = pd.read_csv(\"https://drive.google.com/u/1/uc?id=1pygGDM-F4quUo2Jl4ri-vJosb3FkRQNx&export=download\")\n",
        "\n",
        "# grafico de dispersao\n",
        "plt.plot(df[\"Horas\"],df[\"Nota\"],'.')\n",
        "\n",
        "# reta\n",
        "x = np.arange(0,51)\n",
        "y = a*x+b\n",
        "plt.plot(x,y,'r')"
      ]
    },
    {
      "cell_type": "markdown",
      "metadata": {
        "id": "OEkCx8giktjd"
      },
      "source": [
        "## Exercício\n",
        "Considere a planilha no link\n",
        "\n",
        "https://drive.google.com/u/1/uc?id=1ASOWhw5tp-kUbZcIlkg5eCKwZNJt6MwQ&export=download\n",
        "\n",
        "Faça o gráfico de dispersão com reta de regressão linear com:\n",
        "\n",
        "- Trabalho no eixo x\n",
        "- Prova 2 no eixo y\n"
      ]
    },
    {
      "cell_type": "code",
      "execution_count": null,
      "metadata": {
        "id": "cqrkUMnt5sw-"
      },
      "outputs": [],
      "source": [
        "# Sua resposta\n"
      ]
    },
    {
      "cell_type": "markdown",
      "metadata": {
        "id": "1wHuzdMcanv9"
      },
      "source": [
        "<hr>"
      ]
    },
    {
      "cell_type": "markdown",
      "metadata": {
        "id": "HR3PbKmWiuqC"
      },
      "source": [
        "# Coeficiente de determinação\n",
        "\n",
        "O **coeficiente de determinação** $R^2$ é um valor utilizado para indicar o quão bem a reta de regressão linear se encaixa aos dados disponibilizados.\n",
        "\n",
        "Para regressão linear, $R^2$ é simplesmente o **quadrado do coeficiente de correlação**.\n",
        "\n",
        "Uma de suas interpretações para o significado de $R^2$ é a porcentagem de variabilidade da variável no eixo y que é explicada pela variável no eixo x.\n",
        "\n",
        "Para o nosso exemplo de Horas e Notas:"
      ]
    },
    {
      "cell_type": "code",
      "execution_count": 3,
      "metadata": {
        "id": "TnJ7vDPmj8L9"
      },
      "outputs": [
        {
          "data": {
            "text/plain": [
              "np.float64(0.8717399594001443)"
            ]
          },
          "execution_count": 3,
          "metadata": {},
          "output_type": "execute_result"
        }
      ],
      "source": [
        "# relendo a planilha\n",
        "df = pd.read_csv(\"https://drive.google.com/u/1/uc?id=1pygGDM-F4quUo2Jl4ri-vJosb3FkRQNx&export=download\")\n",
        "\n",
        "ccor = df['Horas'].corr(df['Nota'])\n",
        "cdet = ccor**2\n",
        "cdet"
      ]
    },
    {
      "cell_type": "markdown",
      "metadata": {
        "id": "BC66LPYxBKSL"
      },
      "source": [
        "Esse valor alto era de se esperar, pois a reta se encaixou muito bem aos dados."
      ]
    },
    {
      "cell_type": "markdown",
      "metadata": {
        "id": "gQD2Q4TO8471"
      },
      "source": [
        "## Exercício\n",
        "\n",
        "Considere a planilha no link\n",
        "\n",
        "https://drive.google.com/u/1/uc?id=1ASOWhw5tp-kUbZcIlkg5eCKwZNJt6MwQ&export=download\n",
        "\n",
        "Calcule o coeficiente de determinação entre Trabalho e Prova 1."
      ]
    },
    {
      "cell_type": "code",
      "execution_count": null,
      "metadata": {
        "id": "B1bKSu_w6Ocm"
      },
      "outputs": [],
      "source": [
        "# Sua resposta\n"
      ]
    },
    {
      "cell_type": "markdown",
      "metadata": {
        "id": "aGmd9fjUaqYM"
      },
      "source": [
        "<hr>"
      ]
    },
    {
      "cell_type": "markdown",
      "metadata": {
        "id": "p41WGIFUYz0l"
      },
      "source": [
        "# Regressão polinomial\n",
        "\n",
        "O coeficiente de correlação só considera uma relação linear:\n",
        "- um valor cresce e outro cresce **OU**\n",
        "- um valor cresce e o outro decresce\n",
        "\n",
        "Este tipo de relação é muito simples!\n",
        "\n",
        "Veja este gráfico:"
      ]
    },
    {
      "cell_type": "markdown",
      "metadata": {
        "id": "RoVHreZB_Ylz"
      },
      "source": [
        "![image.png](data:image/png;base64,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)"
      ]
    },
    {
      "cell_type": "markdown",
      "metadata": {
        "id": "EkImFV1e_cBN"
      },
      "source": [
        "Cada ponto corresponde a um aluno e\n",
        " - na coordenada x, temos o número de cafés tomados antes da prova;\n",
        " - na coordenada y, temos a nota na prova.\n",
        "\n",
        "> Como você descreveria a relação entre cafés e nota?\n",
        "\n",
        "Dá para perceber que até um certo ponto a nota parece crescer junto com a quantidade de cafés e, mais ou menos a partir de 5 cafés, essa relação se inverte.\n",
        "\n",
        "> Qual será o coeficiente de correlação entre eles?"
      ]
    },
    {
      "cell_type": "code",
      "execution_count": 4,
      "metadata": {
        "id": "0zodzQYDefqe"
      },
      "outputs": [
        {
          "data": {
            "text/plain": [
              "np.float64(0.11901614184897776)"
            ]
          },
          "execution_count": 4,
          "metadata": {},
          "output_type": "execute_result"
        }
      ],
      "source": [
        "df = pd.read_csv(\"https://drive.google.com/u/1/uc?id=1TUDYCy8bMLQ--0jRAMXRNsg2hhnQcKGX&export=download\")\n",
        "df['Cafes'].corr(df['Nota'])"
      ]
    },
    {
      "cell_type": "markdown",
      "metadata": {
        "id": "FX_Kbm94AtrE"
      },
      "source": [
        "O coeficiente de correlação é muito próximo de zero!\n",
        "\n",
        "Isso é esperado, pois nenhuma reta descreveria bem a relação entre café e nota.\n",
        "\n",
        "Veja como a reta de regressão linear fica ruim:"
      ]
    },
    {
      "cell_type": "code",
      "execution_count": 5,
      "metadata": {
        "id": "liwOwJ2QBLbq"
      },
      "outputs": [
        {
          "data": {
            "text/plain": [
              "[<matplotlib.lines.Line2D at 0x76a4a20c0700>]"
            ]
          },
          "execution_count": 5,
          "metadata": {},
          "output_type": "execute_result"
        },
        {
          "data": {
            "image/png": "[encoded data removed]",
            "text/plain": [
              "<Figure size 640x480 with 1 Axes>"
            ]
          },
          "metadata": {},
          "output_type": "display_data"
        }
      ],
      "source": [
        "(a, b) = np.polyfit(x=df[\"Cafes\"], y=df[\"Nota\"], deg = 1)\n",
        "plt.plot(df[\"Cafes\"],df[\"Nota\"],'.')\n",
        "x = np.arange(0,11)\n",
        "y = a*x+b\n",
        "plt.plot(x,y,'r')"
      ]
    },
    {
      "cell_type": "markdown",
      "metadata": {
        "id": "k4A1DoQdegGx"
      },
      "source": [
        "Ou seja, os dados estão relacionados, mas a relação não é tão simples.\n",
        "\n",
        "No nosso exemplo, ao invés de usar uma reta de regressão linear, podemos procurar qual é o polinômio de grau 2 (ou seja, qual parábola) melhor se encaixa nos dados.\n",
        "\n",
        "Para isso, basta especificarmos o grau para ser $2$.\n",
        "\n",
        "A fórmula de uma parábola é:\n",
        "$$ax^2 + bx + c$$\n",
        "\n",
        "Semelhante ao caso de regressão linear, podemos usar a fórmula para fazer predições."
      ]
    },
    {
      "cell_type": "code",
      "execution_count": 6,
      "metadata": {
        "id": "9XooOOYFB46W"
      },
      "outputs": [
        {
          "data": {
            "text/plain": [
              "[<matplotlib.lines.Line2D at 0x76a4a21ac250>]"
            ]
          },
          "execution_count": 6,
          "metadata": {},
          "output_type": "execute_result"
        },
        {
          "data": {
            "image/png": "[encoded data removed]",
            "text/plain": [
              "<Figure size 640x480 with 1 Axes>"
            ]
          },
          "metadata": {},
          "output_type": "display_data"
        }
      ],
      "source": [
        "(a, b, c) = np.polyfit(x=df[\"Cafes\"], y=df[\"Nota\"], deg = 2)\n",
        "\n",
        "# dispersao\n",
        "plt.plot(df[\"Cafes\"],df[\"Nota\"],'.')\n",
        "\n",
        "# parabola\n",
        "x = np.arange(0,10.1,0.2)\n",
        "y = a*x**2+b*x+c\n",
        "plt.plot(x,y,'r')"
      ]
    },
    {
      "cell_type": "markdown",
      "metadata": {
        "id": "JAxZWIYEBvcG"
      },
      "source": [
        "É necessário ter precaução  ao utilizar a regressão polinomial, porque se permitirmos um grau muito alto corremos o risco de **overfitting**.\n",
        "\n",
        "De maneira informal, **overfitting** ocorre quando procuramos uma solução que se encaixa muitíssimo bem aos dados disponíveis, mas não leva em conta que os dados podem ter imprecisões e que muitas vezes trabalhamos apenas com uma amostra dos nossos dados.\n",
        "\n",
        "Um dos principais problemas de uma solução com overfitting é que, em geral, perdemos poder de predição.\n",
        "\n",
        "Aqui está um exemplo em que temos 10 pontos."
      ]
    },
    {
      "cell_type": "markdown",
      "metadata": {
        "id": "CYyTxJe66J00"
      },
      "source": [
        "![image.png](data:image/png;base64,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)"
      ]
    },
    {
      "cell_type": "markdown",
      "metadata": {
        "id": "ak1wTmak6MHl"
      },
      "source": [
        "*A* curva em vermelho é um polinômio de grau 2.\n",
        "\n",
        "A curva em verde é um polinômio de grau 10.\n",
        "\n",
        "Veja como a curva verde se encaixa perfeitamente nos pontos, mas ao mesmo tempo tem um comportamento muito \"instável\"."
      ]
    },
    {
      "cell_type": "markdown",
      "metadata": {
        "id": "S84oAjQ_Cuyd"
      },
      "source": [
        "## Exercício:\n",
        "\n",
        "Considere a planilha no link\n",
        "\n",
        "https://drive.google.com/u/1/uc?id=1ZNKsK1dGsDiGDU3841yA-MdK1H3QSdxc&export=download\n",
        "\n",
        "- Calcule o polinômio de grau 3 utilizando o método de regressão polinomial com Exame 1 no eixo x e Exame 2 no eixo y.\n",
        "\n",
        "- Faça o gráfico de dispersão e do polinômio juntos.\n",
        "\n",
        "> Baseado no gráfico, o polinômio descreve bem os dados?"
      ]
    },
    {
      "cell_type": "code",
      "execution_count": null,
      "metadata": {
        "id": "xZY9_JBEc3jb"
      },
      "outputs": [],
      "source": [
        "# Sua resposta\n"
      ]
    },
    {
      "cell_type": "markdown",
      "metadata": {
        "id": "u4MloDvyatZa"
      },
      "source": [
        "<hr>"
      ]
    },
    {
      "cell_type": "markdown",
      "metadata": {
        "id": "G62MpMzxk0Xc"
      },
      "source": [
        "# Extra: Coeficiente de determinação para regressão polinomial\n",
        "\n",
        "Para polinômios de grau $\\geq 2$, não podemos calcular o coeficiente de determinação apenas calculando o quadrado do coeficiente de correlação.\n",
        "\n",
        "Precisamos realizar vários pequenos passos.\n",
        "\n",
        "Primeiro, vamos recalcular o polinômio de grau $2$ para o exemplo Café vs Nota:"
      ]
    },
    {
      "cell_type": "code",
      "execution_count": 7,
      "metadata": {
        "id": "m8yn3FlelI9u"
      },
      "outputs": [],
      "source": [
        "df = pd.read_csv(\"https://drive.google.com/u/1/uc?id=1TUDYCy8bMLQ--0jRAMXRNsg2hhnQcKGX&export=download\")\n",
        "cafes = df[\"Cafes\"]\n",
        "notas = df[\"Nota\"]\n",
        "(a, b, c) = np.polyfit(x=cafes, y=notas, deg = 2)"
      ]
    },
    {
      "cell_type": "markdown",
      "metadata": {
        "id": "2ysYD-EBwKTA"
      },
      "source": [
        "Em seguida, calculamos quais seriam os valores previstos pelo polinômio para cada um dos pontos:"
      ]
    },
    {
      "cell_type": "code",
      "execution_count": 8,
      "metadata": {
        "id": "k6LCDnIgmGsj"
      },
      "outputs": [
        {
          "data": {
            "text/plain": [
              "0     51.116644\n",
              "1     87.627940\n",
              "2     74.129740\n",
              "3     81.108648\n",
              "4     87.896468\n",
              "        ...    \n",
              "95    44.928247\n",
              "96    87.512716\n",
              "97    82.208761\n",
              "98    81.836266\n",
              "99    87.600194\n",
              "Name: Cafes, Length: 100, dtype: float64"
            ]
          },
          "execution_count": 8,
          "metadata": {},
          "output_type": "execute_result"
        }
      ],
      "source": [
        "predicao = a*cafes**2 + b*cafes + c\n",
        "predicao"
      ]
    },
    {
      "cell_type": "markdown",
      "metadata": {
        "id": "Ykad-Znmwnx_"
      },
      "source": [
        "Note que esses valores nem sempre coincidem com as notas, mas a maioria está próxima:"
      ]
    },
    {
      "cell_type": "code",
      "execution_count": 9,
      "metadata": {
        "id": "n4B6kvu7wsTN"
      },
      "outputs": [
        {
          "data": {
            "text/plain": [
              "0     53\n",
              "1     93\n",
              "2     70\n",
              "3     67\n",
              "4     82\n",
              "      ..\n",
              "95    44\n",
              "96    94\n",
              "97    89\n",
              "98    75\n",
              "99    81\n",
              "Name: Nota, Length: 100, dtype: int64"
            ]
          },
          "execution_count": 9,
          "metadata": {},
          "output_type": "execute_result"
        }
      ],
      "source": [
        "notas"
      ]
    },
    {
      "cell_type": "markdown",
      "metadata": {
        "id": "4ZK1VSEgw3CW"
      },
      "source": [
        "Calculamos os quadrados das diferenças entre as notas e a predição:"
      ]
    },
    {
      "cell_type": "code",
      "execution_count": 10,
      "metadata": {
        "id": "E8hSpvVrmAHv"
      },
      "outputs": [
        {
          "data": {
            "text/plain": [
              "0       3.547029\n",
              "1      28.859026\n",
              "2      17.054749\n",
              "3     199.053947\n",
              "4      34.768332\n",
              "         ...    \n",
              "95      0.861643\n",
              "96     42.084859\n",
              "97     46.120927\n",
              "98     46.734528\n",
              "99     43.562564\n",
              "Length: 100, dtype: float64"
            ]
          },
          "execution_count": 10,
          "metadata": {},
          "output_type": "execute_result"
        }
      ],
      "source": [
        "dif = (notas-predicao)**2\n",
        "dif"
      ]
    },
    {
      "cell_type": "markdown",
      "metadata": {
        "id": "JnAhtaayxLOE"
      },
      "source": [
        "Calculamos os quadrados das diferenças entre as notas e a **média das notas**:"
      ]
    },
    {
      "cell_type": "code",
      "execution_count": 11,
      "metadata": {
        "id": "4RdbFQu7muQv"
      },
      "outputs": [
        {
          "data": {
            "text/plain": [
              "0     425.5969\n",
              "1     375.1969\n",
              "2      13.1769\n",
              "3      43.9569\n",
              "4      70.0569\n",
              "        ...   \n",
              "95    877.9369\n",
              "96    414.9369\n",
              "97    236.2369\n",
              "98      1.8769\n",
              "99     54.3169\n",
              "Name: Nota, Length: 100, dtype: float64"
            ]
          },
          "execution_count": 11,
          "metadata": {},
          "output_type": "execute_result"
        }
      ],
      "source": [
        "media = notas.mean()\n",
        "dif_media = (notas-media)**2\n",
        "dif_media"
      ]
    },
    {
      "cell_type": "markdown",
      "metadata": {
        "id": "QrLqUN2-xlVi"
      },
      "source": [
        "Finalmente, o coeficiente de determinação é calculado pela fórmula:\n",
        "\n",
        "$$1-\\frac{\\text{soma(dif)}}{\\text{soma(dif_media)}}$$"
      ]
    },
    {
      "cell_type": "code",
      "execution_count": 12,
      "metadata": {
        "id": "knK7D-eOnYuP"
      },
      "outputs": [
        {
          "data": {
            "text/plain": [
              "np.float64(0.8000186741313455)"
            ]
          },
          "execution_count": 12,
          "metadata": {},
          "output_type": "execute_result"
        }
      ],
      "source": [
        "cdet = 1 - dif.sum() / dif_media.sum()\n",
        "cdet"
      ]
    },
    {
      "cell_type": "markdown",
      "metadata": {
        "id": "VQPLGY55yDs5"
      },
      "source": [
        "Veja como este valor é muito diferente do coeficiente de correlação ao quadrado!"
      ]
    },
    {
      "cell_type": "code",
      "execution_count": 13,
      "metadata": {
        "id": "F35Nm4usnwAa"
      },
      "outputs": [
        {
          "data": {
            "text/plain": [
              "np.float64(0.014164842020615994)"
            ]
          },
          "execution_count": 13,
          "metadata": {},
          "output_type": "execute_result"
        }
      ],
      "source": [
        "df[\"Cafes\"].corr(df[\"Nota\"])**2"
      ]
    },
    {
      "cell_type": "markdown",
      "metadata": {
        "id": "0IlQazTpyIr_"
      },
      "source": [
        "Veja como é interessante e conveniente que no caso da regressão linear basta calcular o quadrado do coeficiente de correlação.\n",
        "\n",
        "Veja o que acontece se repetirmos o mesmo processo para o caso Horas vs Nota em que a regressão era **linear**:"
      ]
    },
    {
      "cell_type": "code",
      "execution_count": 14,
      "metadata": {
        "id": "ea-WxC1xn8e6"
      },
      "outputs": [
        {
          "name": "stdout",
          "output_type": "stream",
          "text": [
            "0.8717399594001443\n",
            "0.8717399594001441\n"
          ]
        }
      ],
      "source": [
        "# relendo a planilha\n",
        "df = pd.read_csv(\"https://drive.google.com/u/1/uc?id=1pygGDM-F4quUo2Jl4ri-vJosb3FkRQNx&export=download\")\n",
        "\n",
        "# calculando correlacao\n",
        "ccor = df['Horas'].corr(df['Nota'])\n",
        "cdet = ccor**2\n",
        "print(cdet)\n",
        "\n",
        "# calculando reta\n",
        "horas = df[\"Horas\"]\n",
        "notas = df[\"Nota\"]\n",
        "(a, b) = np.polyfit(x=horas, y=notas, deg = 1)\n",
        "\n",
        "# calculando coeficiente de determinacao\n",
        "predicao = a*horas + b\n",
        "dif  = (notas-predicao)**2\n",
        "media = notas.mean()\n",
        "dif_media = (notas-media)**2\n",
        "\n",
        "cdet2 = 1 - dif.sum() / dif_media.sum()\n",
        "print(cdet2)\n"
      ]
    },
    {
      "cell_type": "markdown",
      "metadata": {
        "id": "o-m_gZm9zERs"
      },
      "source": [
        "Os valores são praticamente iguais!\n",
        "\n",
        "**Observação**: A diferença dos valores acima na última casa acontece porque, quando calculamos dois valores seguindo passos diferentes, o computador pode fazer arredondamentos diferentes durante os processos."
      ]
    },
    {
      "cell_type": "markdown",
      "metadata": {
        "id": "3FWEZnfr6-1n"
      },
      "source": [
        "## Exercício\n",
        "\n",
        "Considere a planilha no link\n",
        "\n",
        "https://drive.google.com/u/1/uc?id=1ZNKsK1dGsDiGDU3841yA-MdK1H3QSdxc&export=download\n",
        "\n",
        "Calcule o polinômio de grau 3 utilizando o método de regressão polinomial com Exame 1 no eixo x e  Exame 2 no eixo y.\n",
        "\n",
        "Calcule o coeficiente de determinação."
      ]
    },
    {
      "cell_type": "code",
      "execution_count": null,
      "metadata": {
        "id": "OLDg8R8N_mvs"
      },
      "outputs": [],
      "source": [
        "# Sua resposta\n"
      ]
    }
  ],
  "metadata": {
    "colab": {
      "private_outputs": true,
      "provenance": []
    },
    "kernelspec": {
      "display_name": "Python 3",
      "name": "python3"
    },
    "language_info": {
      "codemirror_mode": {
        "name": "ipython",
        "version": 3
      },
      "file_extension": ".py",
      "mimetype": "text/x-python",
      "name": "python",
      "nbconvert_exporter": "python",
      "pygments_lexer": "ipython3",
      "version": "3.10.13"
    }
  },
  "nbformat": 4,
  "nbformat_minor": 0
}
