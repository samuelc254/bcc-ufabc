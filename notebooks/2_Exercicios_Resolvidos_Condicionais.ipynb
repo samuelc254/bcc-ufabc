{
  "nbformat": 4,
  "nbformat_minor": 0,
  "metadata": {
    "kernelspec": {
      "display_name": "Python 3",
      "language": "python",
      "name": "python3"
    },
    "language_info": {
      "codemirror_mode": {
        "name": "ipython",
        "version": 3
      },
      "file_extension": ".py",
      "mimetype": "text/x-python",
      "name": "python",
      "nbconvert_exporter": "python",
      "pygments_lexer": "ipython3",
      "version": "3.6.5"
    },
    "colab": {
      "provenance": []
    }
  },
  "cells": [
    {
      "cell_type": "markdown",
      "metadata": {
        "id": "wQ_rVRaN_Qep"
      },
      "source": [
        "# Alguns exercícios resolvidos"
      ]
    },
    {
      "cell_type": "markdown",
      "metadata": {
        "id": "UP0TSBPWbaBd"
      },
      "source": [
        "# 1"
      ]
    },
    {
      "cell_type": "markdown",
      "metadata": {
        "id": "AhVdMwmotHI-"
      },
      "source": [
        "Faça um programa que lê um número inteiro $n$ e imprime a mensagem:\n",
        "\n",
        "\n",
        "*   “O numero eh par” (caso $n$ seja par)\n",
        "*   “O numero eh impar” (caso $n$ seja ímpar)"
      ]
    },
    {
      "cell_type": "markdown",
      "metadata": {
        "id": "SgjcczONcTsI"
      },
      "source": [
        "**RESPOSTA**"
      ]
    },
    {
      "cell_type": "markdown",
      "metadata": {
        "id": "iWpxxJ5M_r-d"
      },
      "source": [
        "Se o resto de divisão de $n$ por $2$ seja $0$, sabemos que $n$ é par.\n",
        "\n",
        "Caso contrário, sabemos que o resto de divisão de $n$ por $2$ é $1$, e portanto $n$ é ímpar.\n",
        "\n",
        "Python tem o operador  `%`  que calcula **o resto da divisão de um número por outro.**\n",
        "\n",
        "Lembre-se que o símbolo ``==`` é **operador de comparação**, enquanto\n",
        "\n",
        "o símbolo ``=`` é **operador de atribuição**.\n",
        "\n",
        "OBS: **Em exercícios de correção automática no Moodle nunca coloque mensagens no `input() `**. O computador não precisa da mensagem e o corretor automático pode dar errado por causa disso. Use somente`input() `.\n",
        "\n",
        "Execute o seguinte código algumas vezes e cada vez digite um número diferente (par ou ímpar) para testar o código.\n"
      ]
    },
    {
      "cell_type": "code",
      "metadata": {
        "id": "ZBbUN6xKUqp_"
      },
      "source": [
        "n = input()           # entrada de dados com comando input(). O valor digitado pelo usuario via teclado``é atribuido à variável n.\n",
        "n = int(n)            # convertemos o que foi digitado em inteiro (para que não seja considerado como texto)\n",
        "if n%2 == 0:\n",
        "  print(\"O numero eh par\")\n",
        "else:\n",
        "  print(\"O numero eh impar\")"
      ],
      "execution_count": null,
      "outputs": []
    },
    {
      "cell_type": "markdown",
      "metadata": {
        "id": "4gDKKLKyIodD"
      },
      "source": [
        "Observe que o programa não vai funcionar sem a segunda linha, pois o `input ` considera como padrão o que usuário digita como um **texto** e não como número.\n",
        "\n",
        "Execute o seguinte código (que é o código acima sem a segunda linha) para visualizar o erro:\n"
      ]
    },
    {
      "cell_type": "code",
      "metadata": {
        "id": "CbbB5z4KJG9J"
      },
      "source": [
        "n = input()\n",
        "if n%2 == 0:\n",
        "  print(\"O numero eh par\")\n",
        "else:\n",
        "  print(\"O numero eh impar\")"
      ],
      "execution_count": null,
      "outputs": []
    },
    {
      "cell_type": "markdown",
      "metadata": {
        "id": "LXe-t_NwIY7i"
      },
      "source": [
        "Observe que as primeiras duas linhas (no primeiro código) podem ser substituídas por uma linha somente:"
      ]
    },
    {
      "cell_type": "code",
      "metadata": {
        "id": "xd1uMzaSH71-"
      },
      "source": [
        "n = int(input())\n",
        "if n%2 == 0:\n",
        "  print(\"O numero eh par\")\n",
        "else:\n",
        "  print(\"O numero eh impar\")"
      ],
      "execution_count": null,
      "outputs": []
    },
    {
      "cell_type": "markdown",
      "metadata": {
        "id": "SrqnmvIPMDk-"
      },
      "source": [
        "# 2\n"
      ]
    },
    {
      "cell_type": "markdown",
      "metadata": {
        "id": "74A1fBJPMF9V"
      },
      "source": [
        "Escreva um programa que solicite ao usuário uma letra MAIÚSCULA e verifique se ela é uma vogal ou não, exibindo uma mensagem correspondente. Exiba:\n",
        "\n",
        "*   Caso verdadeiro: “Eh uma vogal”\n",
        "*   Caso falso: “Nao eh uma vogal”\n",
        "\n"
      ]
    },
    {
      "cell_type": "markdown",
      "metadata": {
        "id": "cTT9JLBLPTk2"
      },
      "source": [
        "**RESPOSTA**"
      ]
    },
    {
      "cell_type": "markdown",
      "metadata": {
        "id": "7cLMVi8tMTt7"
      },
      "source": [
        "As letras vogais são: A, E, I, O, U."
      ]
    },
    {
      "cell_type": "code",
      "metadata": {
        "id": "I1RkLBeIRYjc"
      },
      "source": [
        "L = input()                                          # nao precisamos converter a entrada, pois input ja considera a entrada como um texto\n",
        "if L == \"A\" or L==\"E\" or L==\"I\" or L==\"O\" or L==\"U\": # verificamos se a letra digitada eh vogal\n",
        "  print(\"Eh uma vogal\")\n",
        "else:\n",
        "  print(\"Nao eh uma vogal\")"
      ],
      "execution_count": null,
      "outputs": []
    },
    {
      "cell_type": "markdown",
      "metadata": {
        "id": "bsXeNnY_SnfJ"
      },
      "source": [
        "Desafio: É possível resolver o problema usando o comando `elif`? Caso sim, escreva este programa e responda qual programa é mais eficiente (qual opção é melhor): com `if/else` ou `elif`"
      ]
    },
    {
      "cell_type": "markdown",
      "metadata": {
        "id": "SoTP4_7JIHUT"
      },
      "source": [
        "# 3"
      ]
    },
    {
      "cell_type": "markdown",
      "metadata": {
        "id": "k_3LIGOrIJ8A"
      },
      "source": [
        "Leia 4 valores inteiros, fornecidos pelo usuário na linha de comando, A, B, C e D.\n",
        "A seguir, se todas as três condições abaixo são verdadeiras, escreva a mensagem \"Valores aceitos\", senão escreva \"Valores nao aceitos\":\n",
        "\n",
        "i.  B maior do que C\n",
        "\n",
        "ii. D maior do que A\n",
        "\n",
        "iii. a soma de C com D  maior que a soma de A com B"
      ]
    },
    {
      "cell_type": "markdown",
      "metadata": {
        "id": "Eicd5D-IKJlh"
      },
      "source": [
        "Execute o código (efetue os testes) com pelo menos duas entradas:\n",
        "\n",
        "5, 6, 7, 8\n",
        "\n",
        "2, 3, 2, 6\n",
        "\n",
        "e compare com os resultados esperados.\n"
      ]
    },
    {
      "cell_type": "markdown",
      "metadata": {
        "id": "w3OUURzCMe-n"
      },
      "source": [
        "**RESPOSTA**"
      ]
    },
    {
      "cell_type": "code",
      "metadata": {
        "id": "6HqJ1rQyJcbo"
      },
      "source": [
        "A = int(input())\n",
        "B = int(input())\n",
        "C = int(input())\n",
        "D = int(input())\n",
        "\n",
        "if (B>C) and (D>A) and  (C+D) > (A+B):\n",
        "\tprint(\"valores aceitos\")\n",
        "else:\n",
        "\tprint(\"valores nao aceitos\")\n",
        ""
      ],
      "execution_count": null,
      "outputs": []
    },
    {
      "cell_type": "markdown",
      "metadata": {
        "id": "ziddWElqKwXl"
      },
      "source": [
        "Desafio: É possível resolver o problema sem usar o comando de operador lógico `and`? Caso sim, qual código é mais claro e curto, e qual é mais complexo?"
      ]
    },
    {
      "cell_type": "markdown",
      "metadata": {
        "id": "aWuQO6SPOcHE"
      },
      "source": [
        "# 4"
      ]
    },
    {
      "cell_type": "markdown",
      "metadata": {
        "id": "OTxjM5lgRkv1"
      },
      "source": [
        "Escreva um programa que calcule a idade de uma pessoa a partir do seu ano de nascimento. O programa deve mostrar na tela a idade e também as seguintes mensagens, quando for o caso:\n",
        "\n",
        "*   \"Ja pode votar\" (se tiver 16 anos ou mais)\n",
        "*   \"Ja pode solicitar a Carteira de Habilitacao\" (se tiver 18 anos ou mais)"
      ]
    },
    {
      "cell_type": "markdown",
      "metadata": {
        "id": "VpIujnsvPCB1"
      },
      "source": [
        "**RESPOSTA**"
      ]
    },
    {
      "cell_type": "code",
      "metadata": {
        "id": "G-gYVpLkbY08"
      },
      "source": [
        "ano = int(input())                   # usuario deve digitar o ano de nascimento\n",
        "atual = int(input())                 # usuario deve digitar ano atual\n",
        "idade = atual - ano                  # calculamos a idade de pessoa\n",
        "print(idade)                         # imprimimos a idade\n",
        "if idade >= 16:                      # verificamos se a pessoa pode votar\n",
        "  print(\"Ja pode votar\")\n",
        "if idade >= 18:                      # verificamos se a pessoa pode solicitar a Carteira de Habilitacao\n",
        "  print(\"Ja pode solicitar a Carteira de Habilitacao\")"
      ],
      "execution_count": null,
      "outputs": []
    },
    {
      "cell_type": "markdown",
      "metadata": {
        "id": "XhDInzuacvva"
      },
      "source": [
        "Note que no programa acima foi preciso usar dois ``if`` 's"
      ]
    },
    {
      "cell_type": "markdown",
      "metadata": {
        "id": "Va92TLAkRiAg"
      },
      "source": [
        "# 5"
      ]
    },
    {
      "cell_type": "markdown",
      "metadata": {
        "id": "_Hn6PaHCOesd"
      },
      "source": [
        "Escreva um algoritmo que peça como entrada os coeficientes a, b e c (números reais) de uma equação de 2.o grau. Suponha que o usuário sempre digita um número positivo para o coeficiente a.  O programa deve fornecer como saída:\n",
        "\n",
        "I.   se Δ = 0 : Calcule e imprime a única raiz pela fórmula de Bhaskara\n",
        "\n",
        "II.  se Δ < 0 : Imprima a mensagem: \"As duas raizes sao complexas\"\n",
        "\n",
        "III. se Δ > 0 : Calcule e imprime as 2 raízes reais (com duas casas decimais)  pela fórmula de Bhaskara\n",
        "\n",
        "onde $\\Delta = b^2 - 4ac$"
      ]
    },
    {
      "cell_type": "markdown",
      "metadata": {
        "id": "Xs6JqLzsUbiu"
      },
      "source": [
        "**RESPOSTA**"
      ]
    },
    {
      "cell_type": "markdown",
      "metadata": {
        "id": "5k0x6DJDaH8g"
      },
      "source": [
        "Se $a>=0$, a(s) raíz(es) **reais** de  $ax^2 + bx + c = 0$ são:\n",
        "\n",
        "$\\frac{-b + \\sqrt{\\Delta}}{2a}$ e $\\frac{-b - \\sqrt{\\Delta}}{2a}$\n",
        "\n",
        "onde $\\Delta = b^2 - 4ac$, e ela(s) só existe(m) se $\\Delta >= 0$"
      ]
    },
    {
      "cell_type": "markdown",
      "metadata": {
        "id": "DWUm6Mzjnmdk"
      },
      "source": [
        "Execute o código abaixo (efetue os testes) com:\n",
        "\n",
        "a=1, b=2, c=1\n",
        "\n",
        "a=1, b=1, c=1\n",
        "\n",
        "a=1, b=3, c=1\n",
        "\n",
        "e compare com os resultados esperados."
      ]
    },
    {
      "cell_type": "code",
      "metadata": {
        "id": "3SdPWsjpjxRN"
      },
      "source": [
        "import math        #precisamos de biblioteca math para efetuar o calculo da raiz quadrada math.sqrt\n",
        "a = float(input())\n",
        "b = float(input())\n",
        "c = float(input())\n",
        "delta =  b**2 - 4*a*c\n",
        "if delta == 0:\n",
        "   print(-b/(2*a))\n",
        "elif delta < 0:\n",
        "  print(\"As duas raizes sao complexas\")\n",
        "else:\n",
        "  raiz1= (-b + math.sqrt(delta)) / (2*a)\n",
        "  raiz2= (-b - math.sqrt(delta)) / (2*a)\n",
        "  print(\"%.2f\" % raiz1, \"%.2f\" % raiz2)"
      ],
      "execution_count": null,
      "outputs": []
    },
    {
      "cell_type": "markdown",
      "metadata": {
        "id": "y_dpcxbTpXAO"
      },
      "source": [
        "Você poderia resolver o problema acima usando 3 comandos `if` 's?\n",
        "\n",
        "Qual opção é melhor? Por que?"
      ]
    },
    {
      "cell_type": "markdown",
      "metadata": {
        "id": "XKQpnt0w5Ej9"
      },
      "source": [
        "# 6"
      ]
    },
    {
      "cell_type": "markdown",
      "metadata": {
        "id": "rd7KiLOj5GYS"
      },
      "source": [
        "Escreva um algoritmo que peça como entrada o peso (em kilogramas-número inteiro) e a altura (em metros-número com duas casas decimais) da pessoa. O programa deve calcular e exibir o seu IMC – Índice de Massa Corpórea. Adicionalmente, o programa deve emitir a mensagem correspondentes conforme a tabela a seguir:\n",
        "![Captura de Tela 2021-01-02 às 18.23.26.png](data:image/png;base64,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)"
      ]
    },
    {
      "cell_type": "markdown",
      "metadata": {
        "id": "jqN39m4C_JBT"
      },
      "source": [
        "O IMC é calculado da seguinte forma: divide-se o peso (quilogramas) pela altura ao quadrado (em metros).\n",
        "\n",
        "**Exemplo1**:  peso = 65,  altura = 1.67. Logo, IMC = 65 / (1.67 * 1.67) = 23.31\n",
        "\n",
        "**Exemplo2**:  peso = 85,  altura = 1.60. Logo, IMC = 85 / (1.60 * 1.60) = 33.20\n",
        "\n",
        "Para verificar se o  programa está correto, efetue pelo menos dois testes (que seguem):\n",
        "\n",
        "**TESTE 1**:\n",
        "Entrada: peso=65    altura = 1.67\n",
        "Saída Esperada: IMC = 23.31 - Parabéns — você está em seu peso normal!\n",
        "\n",
        "**TESTE 2**:\n",
        "Entrada: peso=85    altura = 1.60\n",
        "Saída Esperada: IMC = 33.20 - Obesidade grau I\n"
      ]
    },
    {
      "cell_type": "markdown",
      "metadata": {
        "id": "ITay6pRO5VXJ"
      },
      "source": [
        "**RESPOSTA**"
      ]
    },
    {
      "cell_type": "markdown",
      "metadata": {
        "id": "6ogx8dwd6e2O"
      },
      "source": [
        "Quando temos muitas faixas de valores, usamos os comandos `elif` 's\n",
        "\n"
      ]
    },
    {
      "cell_type": "code",
      "metadata": {
        "id": "S0ebXwqkmBHV"
      },
      "source": [
        "peso = int(input())                   # usuario deve digitar o seu peso - inteiro\n",
        "altura = float(input())               # usuario deve digitar a sua altura - real\n",
        "IMC = peso/(altura**2)                # calculamos IMC\n",
        "if IMC <= 18.5:                       # verificamos as faixas de IMC\n",
        "  print(\"Voce esta abaixo do peso ideal\")\n",
        "elif IMC < 25:\n",
        "  print(\"Parabens -- voce esta em seu peso normal!\")\n",
        "elif IMC <30:\n",
        "  print(\"Voce esta acima de seu peso (sobrepeso)\")\n",
        "elif IMC <35:\n",
        "  print(\"Obesidade grau I\")\n",
        "elif IMC <40:\n",
        "  print(\"Obesidade grau II\")\n",
        "else:\n",
        "  print(\"Obesidade grau III\")\n"
      ],
      "execution_count": null,
      "outputs": []
    }
  ]
}