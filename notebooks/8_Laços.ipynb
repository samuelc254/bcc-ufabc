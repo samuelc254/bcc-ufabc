{
  "nbformat": 4,
  "nbformat_minor": 0,
  "metadata": {
    "kernelspec": {
      "display_name": "Python 3",
      "language": "python",
      "name": "python3"
    },
    "language_info": {
      "codemirror_mode": {
        "name": "ipython",
        "version": 3
      },
      "file_extension": ".py",
      "mimetype": "text/x-python",
      "name": "python",
      "nbconvert_exporter": "python",
      "pygments_lexer": "ipython3",
      "version": "3.6.5"
    },
    "colab": {
      "provenance": []
    }
  },
  "cells": [
    {
      "cell_type": "markdown",
      "metadata": {
        "id": "eXOO36pech-z"
      },
      "source": [
        "Sugere-se executar os códigos nesta Unidade com pelo menos duas sequências de entradas diferentes (que possa facilitar no entendimento de como o algoritmo funciona)."
      ]
    },
    {
      "cell_type": "markdown",
      "metadata": {
        "id": "BLocnywMxFav"
      },
      "source": [
        "# Laços\n",
        "\n",
        "Suponha que você esteja fazendo um programa para calcular suas economias.\n",
        "\n",
        "A cada dia você anota se ganhou ou gastou dinheiro:\n",
        "- um valor positivo se ganhou dinheiro\n",
        "- um valor negativo se gastou dinheiro.\n",
        "\n",
        "Digamos que inicialmente o seu saldo é 0.\n",
        "\n",
        "Para um único dia o seu código poderia ser algo assim."
      ]
    },
    {
      "cell_type": "code",
      "metadata": {
        "id": "Y0pwdEOhxFaw",
        "colab": {
          "base_uri": "https://localhost:8080/"
        },
        "outputId": "e9dcc797-4e11-41f2-9917-07233019d1a6"
      },
      "source": [
        "saldo = 0 # o valor inicial de saldo eh 0\n",
        "dia = float(input(\"Digite o valor de hoje: \"))\n",
        "saldo = saldo + dia\n",
        "print(\"O seu saldo é\", saldo)"
      ],
      "execution_count": null,
      "outputs": [
        {
          "output_type": "stream",
          "text": [
            "Digite o valor de hoje: 120\n",
            "O seu saldo é 120.0\n"
          ],
          "name": "stdout"
        }
      ]
    },
    {
      "cell_type": "markdown",
      "metadata": {
        "id": "H4E8Lh9BxFaz"
      },
      "source": [
        "Note que\n",
        "```\n",
        "saldo = saldo + dia\n",
        "```\n",
        "Realiza os seguintes passos:\n",
        "\n",
        "1) Calcula o valor de ``saldo + dia``: substitui o valor de saldo (no caso 0) e o valor de dia (o que o usuário digitar)\n",
        "\n",
        "2) Coloca a soma calculada na variável ``saldo``"
      ]
    },
    {
      "cell_type": "markdown",
      "metadata": {
        "id": "AQgOnKF4xFaz"
      },
      "source": [
        "E se forem 2 dias?\n",
        "\n",
        "Uma maneira simples seria copiar duas vezes a parte do código que pede o valor diário e atualiza o saldo:"
      ]
    },
    {
      "cell_type": "code",
      "metadata": {
        "id": "KeJ7nuFFxFa0",
        "colab": {
          "base_uri": "https://localhost:8080/"
        },
        "outputId": "adf67585-08f1-43cf-aca1-8a0504d6670c"
      },
      "source": [
        "saldo = 0 # inicializamos o valor de saldo com 0 uma unica vez, no inicio de algoritmo\n",
        "# primeiro dia\n",
        "dia = float(input(\"Digite o valor de hoje: \"))\n",
        "saldo = saldo + dia\n",
        "print(\"O seu saldo é\", saldo)\n",
        "\n",
        "# segundo dia\n",
        "dia = float(input(\"Digite o valor de hoje: \"))\n",
        "saldo = saldo + dia\n",
        "print(\"O seu saldo é\", saldo)"
      ],
      "execution_count": null,
      "outputs": [
        {
          "output_type": "stream",
          "text": [
            "Digite o valor de hoje: 32\n",
            "O seu saldo é 32.0\n",
            "Digite o valor de hoje: -12\n",
            "O seu saldo é 20.0\n"
          ],
          "name": "stdout"
        }
      ]
    },
    {
      "cell_type": "markdown",
      "metadata": {
        "id": "4dLthSV0xFa6"
      },
      "source": [
        "> E 3 dias?\n",
        "\n",
        "Copiar o código 3 vezes\n",
        "\n",
        "> E 5 dias?\n",
        "\n",
        "Copiar o código 5 vezes (!?)\n",
        "\n",
        "> E 100 dias?\n",
        "\n",
        "Copiar o código 100 vezes (?!?!)\n",
        "\n",
        "Realizar uma mesma tarefa diversas vezes é algo muito comum em programação e seria muito ruim se fosse realizada por vários copiar/colar.\n",
        "\n",
        "Temos comandos que permitem que façamos isso facilmente e sem ficar copiando o código várias vezes:"
      ]
    },
    {
      "cell_type": "code",
      "metadata": {
        "id": "FNyO5F77xFa6",
        "colab": {
          "base_uri": "https://localhost:8080/"
        },
        "outputId": "1682e6a8-ffce-475c-c161-092868810fcc"
      },
      "source": [
        "saldo = 0\n",
        "for i in [1,2,3]:\n",
        "    dia = float(input(\"Digite o valor de hoje: \"))\n",
        "    saldo = saldo + dia\n",
        "    print(\"O seu saldo é\", saldo)"
      ],
      "execution_count": null,
      "outputs": [
        {
          "output_type": "stream",
          "text": [
            "Digite o valor de hoje: 432\n",
            "O seu saldo é 432.0\n",
            "Digite o valor de hoje: -123\n",
            "O seu saldo é 309.0\n",
            "Digite o valor de hoje: -321\n",
            "O seu saldo é -12.0\n"
          ],
          "name": "stdout"
        }
      ]
    },
    {
      "cell_type": "markdown",
      "metadata": {
        "id": "K3yUpMFExFa9"
      },
      "source": [
        "No código acima, a parte do código\n",
        "```\n",
        "    dia = float(input(\"Digite o valor de hoje: \"))\n",
        "    saldo = saldo + dia\n",
        "    print(\"O seu saldo é\", saldo)\n",
        "```\n",
        "é realizada 3 vezes.\n",
        "\n",
        "> O comando ``saldo=0`` ficou de fora do bloco do ``for``. Por que? Pois o saldo deve ser inicializado com 0 uma única vez.\n",
        "\n",
        "\n",
        "\n",
        "Veja o que acontece se colocássemos dentro do bloco:"
      ]
    },
    {
      "cell_type": "code",
      "metadata": {
        "id": "xJVZj_A1xFa-",
        "colab": {
          "base_uri": "https://localhost:8080/"
        },
        "outputId": "11161789-c808-474c-8ea9-34d3d7b82967"
      },
      "source": [
        "for i in [1,2,3]:\n",
        "    saldo = 0\n",
        "    dia = float(input(\"Digite o valor de hoje: \"))\n",
        "    saldo = saldo + dia\n",
        "    print(\"O seu saldo é\", saldo)"
      ],
      "execution_count": null,
      "outputs": [
        {
          "output_type": "stream",
          "text": [
            "Digite o valor de hoje: 10\n",
            "O seu saldo é 10.0\n",
            "Digite o valor de hoje: 2\n",
            "O seu saldo é 2.0\n",
            "Digite o valor de hoje: -32\n",
            "O seu saldo é -32.0\n"
          ],
          "name": "stdout"
        }
      ]
    },
    {
      "cell_type": "markdown",
      "metadata": {
        "id": "8Sh5Lql-xFbB"
      },
      "source": [
        "> O que aconteceu? Como o saldo foi zerado no início de bloco, não foram somados os valores de 3 dias. Apenas foi impresso o saldo de cada dia, mas este saldo está errado, pois é igual ao valor digitado para dia correspondente (e não a soma de valores digitados nos 3 dias)."
      ]
    },
    {
      "cell_type": "markdown",
      "metadata": {
        "id": "2E5b9OZOxFbB"
      },
      "source": [
        "## Exercício\n",
        "\n",
        "Modifique o código do exemplo para que rode para 5 dias."
      ]
    },
    {
      "cell_type": "code",
      "metadata": {
        "id": "9sCbIxDtxFbC"
      },
      "source": [
        "# Sua resposta\n",
        "saldo = 0\n",
        "for i in [1,2,3]:\n",
        "    dia = float(input(\"Digite o valor de hoje: \"))\n",
        "    saldo = saldo + dia\n",
        "    print(\"O seu saldo é\", saldo)"
      ],
      "execution_count": null,
      "outputs": []
    },
    {
      "cell_type": "markdown",
      "metadata": {
        "id": "RUHYAS7b0jjU"
      },
      "source": [
        "<hr>"
      ]
    },
    {
      "cell_type": "markdown",
      "metadata": {
        "id": "uPtjFA2ExFbE"
      },
      "source": [
        "# O comando ``for``\n",
        "\n",
        "O comando for tem a seguinte estrutura:\n",
        "\n",
        "```\n",
        "for variavel in lista:\n",
        "  comando1\n",
        "  comando2\n",
        "  comando3\n",
        "```\n",
        "\n",
        "A variável assume o valor de cada elemento da lista em ordem e o bloco com os comandos é executado.\n",
        "\n",
        "Como no caso do ``if`` o que está no bloco é determinado pela indentação."
      ]
    },
    {
      "cell_type": "code",
      "metadata": {
        "id": "_1-1SFOdxFbF",
        "colab": {
          "base_uri": "https://localhost:8080/"
        },
        "outputId": "6af996b4-d84f-4603-ca8d-02d50a87e0a5"
      },
      "source": [
        "# Sua resposta\n",
        "saldo = 0\n",
        "for i in [1,2,3]:\n",
        "    print(\"O valor de i é\", i)\n",
        "    dia = float(input(\"Digite o valor de hoje: \"))\n",
        "    saldo = saldo + dia\n",
        "    print(\"O seu saldo é\", saldo)"
      ],
      "execution_count": null,
      "outputs": [
        {
          "output_type": "stream",
          "text": [
            "O valor de i é 1\n",
            "Digite o valor de hoje: 32\n",
            "O seu saldo é 32.0\n",
            "O valor de i é 2\n",
            "Digite o valor de hoje: 32\n",
            "O seu saldo é 64.0\n",
            "O valor de i é 3\n",
            "Digite o valor de hoje: 12\n",
            "O seu saldo é 76.0\n"
          ],
          "name": "stdout"
        }
      ]
    },
    {
      "cell_type": "markdown",
      "metadata": {
        "id": "b7zD8dHe0181"
      },
      "source": [
        "<hr>"
      ]
    },
    {
      "cell_type": "markdown",
      "metadata": {
        "id": "he2d0oAlxFbI"
      },
      "source": [
        "## Muitas repetições\n",
        "\n",
        "A estratégia que mostramos funciona bem para poucas repetições.\n",
        "\n",
        "Por exemplo, se forem 100 dias, não vamos querer digitar 100 números.\n",
        "\n",
        "Queremos uma lista $[1,2,...,100]$. **Podemos usar a função ``range``.**\n",
        "\n",
        "No exemplo abaixo, colocamos o valor diário fixo como 10 (para que ~~eu~~ você não tenha que digitar 100 valores!)"
      ]
    },
    {
      "cell_type": "code",
      "metadata": {
        "id": "DRNRAQ4OxFbI",
        "colab": {
          "base_uri": "https://localhost:8080/"
        },
        "outputId": "2c78f9ef-a541-4a16-a8f7-985553b54fc8"
      },
      "source": [
        "saldo = 0\n",
        "for i in range(1,101):\n",
        "    saldo = saldo + 10\n",
        "    print(\"O seu saldo é\", saldo)"
      ],
      "execution_count": null,
      "outputs": [
        {
          "output_type": "stream",
          "text": [
            "O seu saldo é 10\n",
            "O seu saldo é 20\n",
            "O seu saldo é 30\n",
            "O seu saldo é 40\n",
            "O seu saldo é 50\n",
            "O seu saldo é 60\n",
            "O seu saldo é 70\n",
            "O seu saldo é 80\n",
            "O seu saldo é 90\n",
            "O seu saldo é 100\n",
            "O seu saldo é 110\n",
            "O seu saldo é 120\n",
            "O seu saldo é 130\n",
            "O seu saldo é 140\n",
            "O seu saldo é 150\n",
            "O seu saldo é 160\n",
            "O seu saldo é 170\n",
            "O seu saldo é 180\n",
            "O seu saldo é 190\n",
            "O seu saldo é 200\n",
            "O seu saldo é 210\n",
            "O seu saldo é 220\n",
            "O seu saldo é 230\n",
            "O seu saldo é 240\n",
            "O seu saldo é 250\n",
            "O seu saldo é 260\n",
            "O seu saldo é 270\n",
            "O seu saldo é 280\n",
            "O seu saldo é 290\n",
            "O seu saldo é 300\n",
            "O seu saldo é 310\n",
            "O seu saldo é 320\n",
            "O seu saldo é 330\n",
            "O seu saldo é 340\n",
            "O seu saldo é 350\n",
            "O seu saldo é 360\n",
            "O seu saldo é 370\n",
            "O seu saldo é 380\n",
            "O seu saldo é 390\n",
            "O seu saldo é 400\n",
            "O seu saldo é 410\n",
            "O seu saldo é 420\n",
            "O seu saldo é 430\n",
            "O seu saldo é 440\n",
            "O seu saldo é 450\n",
            "O seu saldo é 460\n",
            "O seu saldo é 470\n",
            "O seu saldo é 480\n",
            "O seu saldo é 490\n",
            "O seu saldo é 500\n",
            "O seu saldo é 510\n",
            "O seu saldo é 520\n",
            "O seu saldo é 530\n",
            "O seu saldo é 540\n",
            "O seu saldo é 550\n",
            "O seu saldo é 560\n",
            "O seu saldo é 570\n",
            "O seu saldo é 580\n",
            "O seu saldo é 590\n",
            "O seu saldo é 600\n",
            "O seu saldo é 610\n",
            "O seu saldo é 620\n",
            "O seu saldo é 630\n",
            "O seu saldo é 640\n",
            "O seu saldo é 650\n",
            "O seu saldo é 660\n",
            "O seu saldo é 670\n",
            "O seu saldo é 680\n",
            "O seu saldo é 690\n",
            "O seu saldo é 700\n",
            "O seu saldo é 710\n",
            "O seu saldo é 720\n",
            "O seu saldo é 730\n",
            "O seu saldo é 740\n",
            "O seu saldo é 750\n",
            "O seu saldo é 760\n",
            "O seu saldo é 770\n",
            "O seu saldo é 780\n",
            "O seu saldo é 790\n",
            "O seu saldo é 800\n",
            "O seu saldo é 810\n",
            "O seu saldo é 820\n",
            "O seu saldo é 830\n",
            "O seu saldo é 840\n",
            "O seu saldo é 850\n",
            "O seu saldo é 860\n",
            "O seu saldo é 870\n",
            "O seu saldo é 880\n",
            "O seu saldo é 890\n",
            "O seu saldo é 900\n",
            "O seu saldo é 910\n",
            "O seu saldo é 920\n",
            "O seu saldo é 930\n",
            "O seu saldo é 940\n",
            "O seu saldo é 950\n",
            "O seu saldo é 960\n",
            "O seu saldo é 970\n",
            "O seu saldo é 980\n",
            "O seu saldo é 990\n",
            "O seu saldo é 1000\n"
          ],
          "name": "stdout"
        }
      ]
    },
    {
      "cell_type": "markdown",
      "metadata": {
        "id": "CvYteUBjxFbL"
      },
      "source": [
        "O ``range`` tem um funcionamento parecido (mas não igual) ao ``arange`` do ``numpy``.\n",
        "\n",
        "**``range(inicio, fim, incremento)``**\n",
        "\n",
        "* **Se o incremento não for especificado, o valor padrão é 1.**\n",
        "\n",
        "* **O valor de fim não está incluído na lista.**\n",
        "\n",
        "* **o range lida apenas com valores inteiros.**"
      ]
    },
    {
      "cell_type": "code",
      "metadata": {
        "id": "TzfcAJ12xFbL",
        "colab": {
          "base_uri": "https://localhost:8080/"
        },
        "outputId": "4c6e1665-6b9e-4b96-9ae2-e175bcb724c0"
      },
      "source": [
        "for i in range(0,10,2):\n",
        "    print(i)"
      ],
      "execution_count": null,
      "outputs": [
        {
          "output_type": "stream",
          "text": [
            "0\n",
            "2\n",
            "4\n",
            "6\n",
            "8\n"
          ],
          "name": "stdout"
        }
      ]
    },
    {
      "cell_type": "markdown",
      "metadata": {
        "id": "9-RVGQSLxFbN"
      },
      "source": [
        "**E se o usuário digitar o número de dias a serem contabilizados?**\n",
        "\n",
        "Nesse caso, é claro que **não é possível escrever a lista de dias direto no código**, pois nem sabemos quantos são.\n",
        "\n",
        "**Mas com o range, fica fácil**:"
      ]
    },
    {
      "cell_type": "code",
      "metadata": {
        "id": "zBL2jMM2xFbO",
        "colab": {
          "base_uri": "https://localhost:8080/"
        },
        "outputId": "0634390d-81c2-487a-e126-7e01eb35e3b4"
      },
      "source": [
        "dias = int(input(\"Digite o número de dias: \"))\n",
        "saldo = 0\n",
        "for i in range(1,dias+1):\n",
        "    dia = float(input(\"Digite o valor de hoje: \"))\n",
        "    saldo = saldo + dia\n",
        "    print(\"O seu saldo é\", saldo)"
      ],
      "execution_count": null,
      "outputs": [
        {
          "output_type": "stream",
          "text": [
            "Digite o número de dias: 3\n",
            "Digite o valor de hoje: 1\n",
            "O seu saldo é 1.0\n",
            "Digite o valor de hoje: -8\n",
            "O seu saldo é -7.0\n",
            "Digite o valor de hoje: 2\n",
            "O seu saldo é -5.0\n"
          ],
          "name": "stdout"
        }
      ]
    },
    {
      "cell_type": "markdown",
      "metadata": {
        "id": "BNHurJlTxFbQ"
      },
      "source": [
        "> **Por que o range vai até dias+1?**\n",
        "\n",
        "**Porque** **o range começou em 1 e número de fim não está incluso no intervalo**.\n",
        "\n",
        "Em geral, você iria ver um código assim (note que range começa com 0):"
      ]
    },
    {
      "cell_type": "code",
      "metadata": {
        "id": "asQcbb2RxFbR",
        "colab": {
          "base_uri": "https://localhost:8080/"
        },
        "outputId": "43c846bb-8931-4285-a1d4-24eaaaf57437"
      },
      "source": [
        "dias = int(input(\"Digite o número de dias: \"))\n",
        "saldo = 0\n",
        "for i in range(0,dias):\n",
        "    dia = float(input(\"Digite o valor de hoje: \"))\n",
        "    saldo = saldo + dia\n",
        "    print(\"O seu saldo é\", saldo)"
      ],
      "execution_count": null,
      "outputs": [
        {
          "output_type": "stream",
          "text": [
            "Digite o número de dias: 3\n",
            "Digite o valor de hoje: 1\n",
            "O seu saldo é 1.0\n",
            "Digite o valor de hoje: -8\n",
            "O seu saldo é -7.0\n",
            "Digite o valor de hoje: 2\n",
            "O seu saldo é -5.0\n"
          ],
          "name": "stdout"
        }
      ]
    },
    {
      "cell_type": "markdown",
      "metadata": {
        "id": "kDmQ915vxFbT"
      },
      "source": [
        "**As duas opções realizam a mesma tarefa. No entanto, a segunda é considerada mais legível.**\n",
        "\n",
        "**Note que na primeira, range começa em 1: range(1,dias+1)**\n",
        "\n",
        "**Note que na segunda, range começa em 0: range(0,dias)**"
      ]
    },
    {
      "cell_type": "markdown",
      "metadata": {
        "id": "oPllB2Jw0xiJ"
      },
      "source": [
        "<hr>"
      ]
    },
    {
      "cell_type": "markdown",
      "metadata": {
        "id": "85VmnyKcxFbT"
      },
      "source": [
        "## Laços com condicionais\n",
        "\n",
        "> E se quisermos que o programa dê um aviso no caso em que o saldo fique negativo?\n",
        "\n",
        "Basta colocarmos um ``if`` dentro do nosso bloco do  ``for``!"
      ]
    },
    {
      "cell_type": "code",
      "metadata": {
        "id": "hq_S5Y40xFbU",
        "colab": {
          "base_uri": "https://localhost:8080/"
        },
        "outputId": "06e1bab9-621c-4bc5-dfbf-d84f4b0d2b1b"
      },
      "source": [
        "dias = int(input(\"Digite o número de dias: \"))\n",
        "saldo = 0\n",
        "for i in range(0,dias):\n",
        "    dia = float(input(\"Digite o valor de hoje: \"))\n",
        "    saldo = saldo + dia\n",
        "    print(\"O seu saldo é\", saldo)\n",
        "    if saldo < 0:\n",
        "        print(\"Alerta! O seu saldo ficou negativo!\")"
      ],
      "execution_count": null,
      "outputs": [
        {
          "output_type": "stream",
          "text": [
            "Digite o número de dias: 3\n",
            "Digite o valor de hoje: 23\n",
            "O seu saldo é 23.0\n",
            "Digite o valor de hoje: -30\n",
            "O seu saldo é -7.0\n",
            "Alerta! O seu saldo ficou negativo!\n",
            "Digite o valor de hoje: 32\n",
            "O seu saldo é 25.0\n"
          ],
          "name": "stdout"
        }
      ]
    },
    {
      "cell_type": "markdown",
      "metadata": {
        "id": "vE8fYd1DxFbX"
      },
      "source": [
        "Note que a condição ``saldo < 0`` é checada a cada dia.\n",
        "\n",
        "**Agora suponha que, no caso em que o saldo fique negativo, o nosso programa deve dar um aviso e sair do laço (ou seja, parar de contabilizar).**\n",
        "\n",
        "Um comando bastante utilizado é o **``break``**: **ele faz com que o programa saia do laço mesmo que não tenha percorrido a lista toda.**\n",
        "\n",
        "Em outras palavras, o **``break``** **\"quebra\" o laço.**\n"
      ]
    },
    {
      "cell_type": "code",
      "metadata": {
        "id": "g0nsJFymxFbY",
        "colab": {
          "base_uri": "https://localhost:8080/"
        },
        "outputId": "73d2e0d6-c5b3-4f57-a617-3236d948fd96"
      },
      "source": [
        "dias = int(input(\"Digite o número de dias: \"))\n",
        "saldo = 0\n",
        "for i in range(0,dias):\n",
        "    dia = float(input(\"Digite o valor de hoje: \"))\n",
        "    saldo = saldo + dia\n",
        "    print(\"O seu saldo é\", saldo)\n",
        "    if saldo < 0:\n",
        "        print(\"Alerta! O seu saldo ficou negativo!\")\n",
        "        break\n",
        ""
      ],
      "execution_count": null,
      "outputs": [
        {
          "output_type": "stream",
          "text": [
            "Digite o número de dias: 10\n",
            "Digite o valor de hoje: 32\n",
            "O seu saldo é 32.0\n",
            "Digite o valor de hoje: -432\n",
            "O seu saldo é -400.0\n",
            "Alerta! O seu saldo ficou negativo!\n"
          ],
          "name": "stdout"
        }
      ]
    },
    {
      "cell_type": "markdown",
      "metadata": {
        "id": "9EWlLfS5xFba"
      },
      "source": [
        "## Exercício:\n",
        "\n",
        "Faça um programa que pede para o usuário digitar uma senha.\n",
        "\n",
        "Ele deve ter no máximo 3 tentativas. A senha correta é 1234\n",
        "\n",
        "Em cada tentativa,\n",
        "* Se ele acertar, diga que ele acertou e encerre o programa.\n",
        "* Se ele errar, diga que a senha está errada e dê mais uma tentativa (com um limite de 3 tentativas)"
      ]
    },
    {
      "cell_type": "code",
      "metadata": {
        "id": "K5PfmFJ6zWrU"
      },
      "source": [
        "# Sua resposta\n"
      ],
      "execution_count": null,
      "outputs": []
    },
    {
      "cell_type": "markdown",
      "metadata": {
        "id": "l43ThNiD094r"
      },
      "source": [
        "<hr>"
      ]
    },
    {
      "cell_type": "markdown",
      "metadata": {
        "id": "G-ElymdOxFba"
      },
      "source": [
        "# O comando ``while``\n",
        "\n",
        "Voltando ao nosso exemplo de contabilidade:\n",
        "\n",
        "> E se quisermos parar apenas após alcançarmos um dia de saldo negativo sem nenhum limite para o número de dias?\n",
        "\n",
        "Ou seja, o usuário não digita o número de dias. Devemos rodar até que o saldo fique negativo."
      ]
    },
    {
      "cell_type": "code",
      "metadata": {
        "id": "ETi2PRF_xFba",
        "colab": {
          "base_uri": "https://localhost:8080/"
        },
        "outputId": "858ddfb3-7f02-43d2-f44d-bb69c4072d18"
      },
      "source": [
        "saldo = 0\n",
        "while saldo >= 0:\n",
        "    dia = float(input(\"Digite o valor de hoje: \"))\n",
        "    saldo = saldo + dia\n",
        "    print(\"O seu saldo é\", saldo)\n",
        "    if saldo < 0:\n",
        "        print(\"Alerta! O seu saldo ficou negativo!\")"
      ],
      "execution_count": null,
      "outputs": [
        {
          "output_type": "stream",
          "text": [
            "Digite o valor de hoje: 32\n",
            "O seu saldo é 32.0\n",
            "Digite o valor de hoje: 12\n",
            "O seu saldo é 44.0\n",
            "Digite o valor de hoje: -432\n",
            "O seu saldo é -388.0\n",
            "Alerta! O seu saldo ficou negativo!\n"
          ],
          "name": "stdout"
        }
      ]
    },
    {
      "cell_type": "markdown",
      "metadata": {
        "id": "OrF9D-nzzv4a"
      },
      "source": [
        "Aqui o bloco de comandos\n",
        "\n",
        "```\n",
        "    dia = float(input(\"Digite o valor de hoje: \"))\n",
        "    saldo = saldo + dia\n",
        "    print(\"O seu saldo é\", saldo)\n",
        "    if saldo < 0:\n",
        "        print(\"Alerta! O seu saldo ficou negativo!\")\n",
        "```\n",
        "\n",
        "É executado enquanto ``saldo >= 0``."
      ]
    },
    {
      "cell_type": "markdown",
      "metadata": {
        "id": "AY_j0IGZxFbc"
      },
      "source": [
        "O comando while segue esta estrutura:\n",
        "```\n",
        "while condicao:\n",
        "  comando1\n",
        "  comando2\n",
        "  comando3\n",
        "```\n",
        "\n",
        "Novamente, a indentação é usada para indicar o que está no bloco de comandos do while.\n",
        "\n",
        "**O ``while`` funciona assim:**\n",
        "\n",
        "1) **Verifique se a condição vale**\n",
        "\n",
        "2a) **Se vale, execute o bloco de comandos do while. Volte ao passo 1 (ou seja, verifique a condição novamente).**\n",
        "\n",
        "2b) **Se não vale, continue a execução do programa fora do bloco de comandos do while.**\n",
        "\n",
        "Ou seja, o bloco de `while ` é repetido até que a condição deixe de valer!\n",
        "\n",
        "> E se a condição for sempre verdadeira?\n",
        "\n",
        "Então dizemos que o seu programa entrou em ***loop infinito*** e ele não irá parar a menos que você o interrompa.\n",
        "\n",
        "OBS: Evite escrever programas que entrem em loop infinito."
      ]
    },
    {
      "cell_type": "markdown",
      "metadata": {
        "id": "l9BRE70J1Fjw"
      },
      "source": [
        "## Exercício:\n",
        "\n",
        "Faça um programa que pede para o usuário digitar uma senha.\n",
        "\n",
        "A senha correta é 1234\n",
        "\n",
        "Em cada tentativa,\n",
        "* Se ele acertar, diga que ele acertou e encerre o programa.\n",
        "* Se ele errar, diga que a senha está errada e dê mais uma tentativa (não há limite de tentativas)."
      ]
    },
    {
      "cell_type": "code",
      "metadata": {
        "id": "cNI5HOBlxFbd"
      },
      "source": [
        "# Sua resposta\n"
      ],
      "execution_count": null,
      "outputs": []
    },
    {
      "cell_type": "markdown",
      "metadata": {
        "id": "VawBBPMZ1Kgw"
      },
      "source": [
        "<hr>"
      ]
    },
    {
      "cell_type": "markdown",
      "metadata": {
        "id": "N8zMTEt9xFbf"
      },
      "source": [
        "## while com condição composta\n",
        "\n",
        "Assim como no ``if``, podemos usar  condições compostas no ``while``.\n",
        "\n",
        "Suponha que agora você queria parar a contabilidade quando o saldo ficar negativo ou atingir 1000.\n",
        "\n",
        "Então queremos rodar a contabilidade enquanto\n",
        "\n",
        "o saldo é >=0 **E** o saldo é < 1000"
      ]
    },
    {
      "cell_type": "code",
      "metadata": {
        "id": "9lANdtnQxFbi",
        "colab": {
          "base_uri": "https://localhost:8080/"
        },
        "outputId": "38d7e2cd-cf13-418f-e80f-f2c1ee1ac694"
      },
      "source": [
        "saldo = 0\n",
        "while saldo >= 0 and saldo < 1000:\n",
        "    dia = float(input(\"Digite o valor de hoje: \"))\n",
        "    saldo = saldo + dia\n",
        "    print(\"O seu saldo é\", saldo)\n",
        "    if saldo < 0:\n",
        "        print(\"Alerta! O seu saldo ficou negativo!\")\n",
        "    elif saldo >= 1000:\n",
        "        print(\"Parabéns! Você economizou o quanto queria!\")"
      ],
      "execution_count": null,
      "outputs": [
        {
          "output_type": "stream",
          "text": [
            "Digite o valor de hoje: 432\n",
            "O seu saldo é 432.0\n",
            "Digite o valor de hoje: 14235\n",
            "O seu saldo é 14667.0\n",
            "Parabéns! Você economizou o quanto queria!\n"
          ],
          "name": "stdout"
        }
      ]
    },
    {
      "cell_type": "markdown",
      "metadata": {
        "id": "7-h_wpJh15HW"
      },
      "source": [
        "Compare com esta alternativa:"
      ]
    },
    {
      "cell_type": "code",
      "metadata": {
        "id": "AQkhV5H1xFbk",
        "colab": {
          "base_uri": "https://localhost:8080/"
        },
        "outputId": "9aaa4062-3213-45c3-8730-cf4950e3a529"
      },
      "source": [
        "saldo = 0\n",
        "while saldo >= 0 and saldo < 1000:\n",
        "    dia = float(input(\"Digite o valor de hoje: \"))\n",
        "    saldo = saldo + dia\n",
        "    print(\"O seu saldo é\", saldo)\n",
        "\n",
        "if saldo < 0:\n",
        "    print(\"Alerta! O seu saldo ficou negativo!\")\n",
        "elif saldo >= 1000:\n",
        "    print(\"Parabéns! Você economizou o quanto queria!\")"
      ],
      "execution_count": null,
      "outputs": [
        {
          "output_type": "stream",
          "text": [
            "Digite o valor de hoje: 23\n",
            "O seu saldo é 23.0\n",
            "Digite o valor de hoje: -123\n",
            "O seu saldo é -100.0\n",
            "Alerta! O seu saldo ficou negativo!\n"
          ],
          "name": "stdout"
        }
      ]
    },
    {
      "cell_type": "markdown",
      "metadata": {
        "id": "GDm6ZPCn19G3"
      },
      "source": [
        "> Qual a diferença? No primeiro caso, a impressão de mensagem é feita em cada bloco de `while`. No segundo caso, impressão de mensagem é feita uma única vez, após sair de laço `while`."
      ]
    },
    {
      "cell_type": "markdown",
      "metadata": {
        "id": "Q447Em6X1N2x"
      },
      "source": [
        "<hr>"
      ]
    },
    {
      "cell_type": "markdown",
      "metadata": {
        "id": "KOpX1OjkxFbp"
      },
      "source": [
        "# Listas\n",
        "\n",
        "Uma estrutura muito usada em Python é chamada de lista.\n",
        "\n",
        "O Python é uma linguagem em que lidar com listas é muito natural e temos várias operações úteis envolvendo listas.\n",
        "\n",
        "Veja o exemplo de uma lista com os números 1,2,3:"
      ]
    },
    {
      "cell_type": "code",
      "metadata": {
        "id": "lflMuZhFxFbp",
        "colab": {
          "base_uri": "https://localhost:8080/"
        },
        "outputId": "1cf783cf-e7d6-431d-967d-a0b800280188"
      },
      "source": [
        "[1,2,3]"
      ],
      "execution_count": null,
      "outputs": [
        {
          "output_type": "execute_result",
          "data": {
            "text/plain": [
              "[1, 2, 3]"
            ]
          },
          "metadata": {
            "tags": []
          },
          "execution_count": 15
        }
      ]
    },
    {
      "cell_type": "markdown",
      "metadata": {
        "id": "E5OrrBQcxFbr"
      },
      "source": [
        "EXTRA: Listas tem suas operações próprias:\n",
        "\n",
        "Veja o que o + faz:"
      ]
    },
    {
      "cell_type": "code",
      "metadata": {
        "id": "QJVvpbN1xFbs",
        "colab": {
          "base_uri": "https://localhost:8080/"
        },
        "outputId": "fa648090-c60a-47ef-d579-35bf10ffef85"
      },
      "source": [
        "[1,2,3]+[\"a\",\"b\",\"c\"]"
      ],
      "execution_count": null,
      "outputs": [
        {
          "output_type": "execute_result",
          "data": {
            "text/plain": [
              "[1, 2, 3, 'a', 'b', 'c']"
            ]
          },
          "metadata": {
            "tags": []
          },
          "execution_count": 16
        }
      ]
    },
    {
      "cell_type": "markdown",
      "metadata": {
        "id": "5Cp6h_3UxFbu"
      },
      "source": [
        "Essa operação é chamada de **concatenação**: obtemos uma lista formada pela primeira lista seguida pela segunda lista.\n",
        "\n",
        "EXTRA: Temos também a operação de ``*``:"
      ]
    },
    {
      "cell_type": "code",
      "metadata": {
        "id": "BEWGwIGoxFbu",
        "colab": {
          "base_uri": "https://localhost:8080/"
        },
        "outputId": "a0721850-27a4-40ce-b0c4-edc183c7bdb4"
      },
      "source": [
        "[1,-1]*4"
      ],
      "execution_count": null,
      "outputs": [
        {
          "output_type": "execute_result",
          "data": {
            "text/plain": [
              "[1, -1, 1, -1, 1, -1, 1, -1]"
            ]
          },
          "metadata": {
            "tags": []
          },
          "execution_count": 17
        }
      ]
    },
    {
      "cell_type": "markdown",
      "metadata": {
        "id": "eXv8MFMxxFbx"
      },
      "source": [
        "Note aqui que a lista é repetida 4 vezes.\n",
        "\n",
        "**Para saber o tamanho da lista, usamos a função `len`:**"
      ]
    },
    {
      "cell_type": "code",
      "metadata": {
        "id": "9dcRpSpLxFbx",
        "colab": {
          "base_uri": "https://localhost:8080/"
        },
        "outputId": "b110155d-e4f2-4729-d29d-cc8d65a62f71"
      },
      "source": [
        "x = [1,-5,3,-6,3,7]\n",
        "n = len(x)\n",
        "n"
      ],
      "execution_count": null,
      "outputs": [
        {
          "output_type": "execute_result",
          "data": {
            "text/plain": [
              "6"
            ]
          },
          "metadata": {
            "tags": []
          },
          "execution_count": 18
        }
      ]
    },
    {
      "cell_type": "markdown",
      "metadata": {
        "id": "FxZTvkMKxFb0"
      },
      "source": [
        "Para acessar os elementos de uma lista, usamos a sua posição. **A primeira posição começa em 0 (não em 1):**"
      ]
    },
    {
      "cell_type": "code",
      "metadata": {
        "id": "2PxUX4CexFb0",
        "colab": {
          "base_uri": "https://localhost:8080/"
        },
        "outputId": "73060e94-2e08-408e-b856-c5a68af77852"
      },
      "source": [
        "x = [1,-5,3,-6,3,7]\n",
        "print(x[0])\n",
        "print(x[1])\n",
        "print(x[2])\n",
        "print(x[3])\n",
        "print(x[4])\n",
        "print(x[5])"
      ],
      "execution_count": null,
      "outputs": [
        {
          "output_type": "stream",
          "text": [
            "1\n",
            "-5\n",
            "3\n",
            "-6\n",
            "3\n",
            "7\n"
          ],
          "name": "stdout"
        }
      ]
    },
    {
      "cell_type": "markdown",
      "metadata": {
        "id": "qAAuvscMxFb2"
      },
      "source": [
        "É muito comum acessar listas usando um ``for``, pois podemos percorrer as posições (também chamados de **índices**) da lista e acessar cada valor:"
      ]
    },
    {
      "cell_type": "code",
      "metadata": {
        "id": "ky81BLz8xFb3",
        "colab": {
          "base_uri": "https://localhost:8080/"
        },
        "outputId": "f5cdc5d0-c2c0-4459-fb66-e30a7ec7fbd1"
      },
      "source": [
        "x = [1,-5,3,-6,3,7]\n",
        "n = len(x)\n",
        "for i in range(0, n):\n",
        "    print(x[i])"
      ],
      "execution_count": null,
      "outputs": [
        {
          "output_type": "stream",
          "text": [
            "1\n",
            "-5\n",
            "3\n",
            "-6\n",
            "3\n",
            "7\n"
          ],
          "name": "stdout"
        }
      ]
    },
    {
      "cell_type": "markdown",
      "metadata": {
        "id": "q90NVgiN1QM3"
      },
      "source": [
        "<hr>"
      ]
    },
    {
      "cell_type": "markdown",
      "metadata": {
        "id": "TpNtJqKyxFb5"
      },
      "source": [
        "# Um exemplo com planilhas\n",
        "\n",
        "Agora suponha que você tenha anotado os seus valores diários em várias planilhas (uma por mês) e você quer calcular o saldo após cada mês.\n",
        "\n",
        "Vamos criar uma lista com os endereços das planilhas:"
      ]
    },
    {
      "cell_type": "code",
      "metadata": {
        "id": "kH7lY4io2vf9"
      },
      "source": [
        "jan = \"https://drive.google.com/u/1/uc?id=17sjfD-oEy4aXoYcQ6nAzTpeeMypLv-lB&export=download\"\n",
        "fev = \"https://drive.google.com/u/1/uc?id=1tLetEAZ0US1OLs6Vi8GlU08Owgb-Yuww&export=download\"\n",
        "mar = \"https://drive.google.com/u/1/uc?id=1V8oHM9V9vNvUrVUFmqf98BwDqsk9a6w5&export=download\"\n",
        "urls = [jan, fev, mar]"
      ],
      "execution_count": null,
      "outputs": []
    },
    {
      "cell_type": "markdown",
      "metadata": {
        "id": "N2x_9GwA4YMz"
      },
      "source": [
        "Veja que a lista de endereços está guardada na variável ``urls`` (que é uma lista)."
      ]
    },
    {
      "cell_type": "code",
      "metadata": {
        "id": "oUnoD8mx4d2N",
        "colab": {
          "base_uri": "https://localhost:8080/"
        },
        "outputId": "92bdf617-46c1-4bbd-da70-8dd6fabd336e"
      },
      "source": [
        "urls"
      ],
      "execution_count": null,
      "outputs": [
        {
          "output_type": "execute_result",
          "data": {
            "text/plain": [
              "['https://drive.google.com/u/1/uc?id=17sjfD-oEy4aXoYcQ6nAzTpeeMypLv-lB&export=download',\n",
              " 'https://drive.google.com/u/1/uc?id=1tLetEAZ0US1OLs6Vi8GlU08Owgb-Yuww&export=download',\n",
              " 'https://drive.google.com/u/1/uc?id=1V8oHM9V9vNvUrVUFmqf98BwDqsk9a6w5&export=download']"
            ]
          },
          "metadata": {
            "tags": []
          },
          "execution_count": 22
        }
      ]
    },
    {
      "cell_type": "markdown",
      "metadata": {
        "id": "Qx9nsn482wot"
      },
      "source": [
        "Agora podemos percorrer a lista de endereços usando um ``for``.\n",
        "\n",
        "Veja como o código fica curto:"
      ]
    },
    {
      "cell_type": "code",
      "metadata": {
        "id": "SZGPgtUjxFb6",
        "colab": {
          "base_uri": "https://localhost:8080/"
        },
        "outputId": "05359332-17e8-40a1-c758-a0aaf17a7ed5"
      },
      "source": [
        "import pandas as pd\n",
        "jan = \"https://drive.google.com/u/1/uc?id=17sjfD-oEy4aXoYcQ6nAzTpeeMypLv-lB&export=download\"\n",
        "fev = \"https://drive.google.com/u/1/uc?id=1tLetEAZ0US1OLs6Vi8GlU08Owgb-Yuww&export=download\"\n",
        "mar = \"https://drive.google.com/u/1/uc?id=1V8oHM9V9vNvUrVUFmqf98BwDqsk9a6w5&export=download\"\n",
        "urls = [jan, fev, mar]\n",
        "\n",
        "saldo = 0\n",
        "for mes in urls: # note que o valor de mes varia =: vai ser jan, depois fev e depois mar\n",
        "    #df guarda a planilha de mes em questao. Por exemplo, se mes eh jan, temos df=pd.read_csv(mes) = pd.read_csv(jan)\n",
        "    #pd.read_csv(jan) = pd.read_csv(\"https://drive.google.com/u/1/uc?id=17sjfD-oEy4aXoYcQ6nAzTpeeMypLv-lB&export=download\")\n",
        "    df = pd.read_csv(mes)\n",
        "    mensal = df[\"Valor\"].sum()\n",
        "    saldo = saldo + mensal\n",
        "    print(\"O saldo do mês é foi de\", mensal)\n",
        "    print(\"O saldo é\", saldo)"
      ],
      "execution_count": null,
      "outputs": [
        {
          "output_type": "stream",
          "text": [
            "O saldo do mês é foi de -1087\n",
            "O saldo é -1087\n",
            "O saldo do mês é foi de 3536\n",
            "O saldo é 2449\n",
            "O saldo do mês é foi de 6101\n",
            "O saldo é 8550\n"
          ],
          "name": "stdout"
        }
      ]
    },
    {
      "cell_type": "markdown",
      "metadata": {
        "id": "EbPxBqmn5Rbv"
      },
      "source": [
        "Podemos também acessar pelas posições na lista urls:"
      ]
    },
    {
      "cell_type": "code",
      "metadata": {
        "id": "gddIKoIm5UvO",
        "colab": {
          "base_uri": "https://localhost:8080/"
        },
        "outputId": "22aa8ba5-3eda-4697-b167-05290d4003e3"
      },
      "source": [
        "import pandas as pd\n",
        "jan = \"https://drive.google.com/u/1/uc?id=17sjfD-oEy4aXoYcQ6nAzTpeeMypLv-lB&export=download\"\n",
        "fev = \"https://drive.google.com/u/1/uc?id=1tLetEAZ0US1OLs6Vi8GlU08Owgb-Yuww&export=download\"\n",
        "mar = \"https://drive.google.com/u/1/uc?id=1V8oHM9V9vNvUrVUFmqf98BwDqsk9a6w5&export=download\"\n",
        "urls = [jan, fev, mar]\n",
        "\n",
        "saldo = 0\n",
        "for i in range(0,len(urls)):  # lembre-se de que len guarda o numero de elementos na lista, no nosso caso, este numero eh 3\n",
        "    df = pd.read_csv(urls[i]) # observe que urls[0] = jan; utls[1]=fev; urls[2]=mar\n",
        "    mensal = df[\"Valor\"].sum()\n",
        "    saldo = saldo + mensal\n",
        "    print(\"O saldo do mês é foi de\", mensal)\n",
        "    print(\"O saldo é\", saldo)"
      ],
      "execution_count": null,
      "outputs": [
        {
          "output_type": "stream",
          "text": [
            "O saldo do mês é foi de -1087\n",
            "O saldo é -1087\n",
            "O saldo do mês é foi de 3536\n",
            "O saldo é 2449\n",
            "O saldo do mês é foi de 6101\n",
            "O saldo é 8550\n"
          ],
          "name": "stdout"
        }
      ]
    },
    {
      "cell_type": "markdown",
      "metadata": {
        "id": "mJWeAdz4xFb7"
      },
      "source": [
        "## Gráficos"
      ]
    },
    {
      "cell_type": "markdown",
      "metadata": {
        "id": "d6rUSRLSxFb8"
      },
      "source": [
        "E se quisermos colocar um gráfico com o saldo após cada mês?\n",
        "\n",
        "Vamos ver duas maneiras.\n",
        "\n",
        "A primeira é atualizar o gráfico cada vez que rodamos o laço.\n",
        "\n",
        "Vamos colocar um 'o' no saldo de acordo com o mês."
      ]
    },
    {
      "cell_type": "code",
      "metadata": {
        "id": "mIp27a1BxFb8",
        "colab": {
          "base_uri": "https://localhost:8080/",
          "height": 265
        },
        "outputId": "0a2b56c2-fb32-40de-ccea-1426609b6273"
      },
      "source": [
        "import pandas as pd\n",
        "import matplotlib.pyplot as plt\n",
        "%matplotlib inline\n",
        "\n",
        "jan = \"https://drive.google.com/u/1/uc?id=17sjfD-oEy4aXoYcQ6nAzTpeeMypLv-lB&export=download\"\n",
        "fev = \"https://drive.google.com/u/1/uc?id=1tLetEAZ0US1OLs6Vi8GlU08Owgb-Yuww&export=download\"\n",
        "mar = \"https://drive.google.com/u/1/uc?id=1V8oHM9V9vNvUrVUFmqf98BwDqsk9a6w5&export=download\"\n",
        "urls = [jan, fev, mar]\n",
        "\n",
        "saldo = 0\n",
        "\n",
        "for i in range(0,len(urls)):\n",
        "    df = pd.read_csv(urls[i])\n",
        "    mensal = df[\"Valor\"].sum()\n",
        "    saldo = saldo + mensal\n",
        "    plt.plot(i,saldo,'o')"
      ],
      "execution_count": null,
      "outputs": [
        {
          "output_type": "display_data",
          "data": {
            "image/png": "[encoded data removed]",
            "text/plain": [
              "<Figure size 432x288 with 1 Axes>"
            ]
          },
          "metadata": {
            "tags": [],
            "needs_background": "light"
          }
        }
      ]
    },
    {
      "cell_type": "markdown",
      "metadata": {
        "id": "BKW6rD2451NR"
      },
      "source": [
        "A segunda maneira é criar uma lista com os pontos e depois fazer o gráfico em um único comando.\n",
        "\n",
        "EXTRA: **O comando a seguir cria uma lista vazia:**"
      ]
    },
    {
      "cell_type": "code",
      "metadata": {
        "id": "MMdb1w2N5-9G",
        "colab": {
          "base_uri": "https://localhost:8080/"
        },
        "outputId": "dbc63462-50bc-4b41-b38a-16678acafeb3"
      },
      "source": [
        "lista_saldos = []\n",
        "lista_saldos"
      ],
      "execution_count": null,
      "outputs": [
        {
          "output_type": "execute_result",
          "data": {
            "text/plain": [
              "[]"
            ]
          },
          "metadata": {
            "tags": []
          },
          "execution_count": 26
        }
      ]
    },
    {
      "cell_type": "markdown",
      "metadata": {
        "id": "uoYGN64p6HKy"
      },
      "source": [
        "EXTRA**A função ``append`` adiciona um elemento no fim da lista:**"
      ]
    },
    {
      "cell_type": "code",
      "metadata": {
        "id": "WtPWj_YF6PQo",
        "colab": {
          "base_uri": "https://localhost:8080/"
        },
        "outputId": "623e3546-c70c-4fa7-b98f-f833b73857f7"
      },
      "source": [
        "print(\"Lista:\",lista_saldos)\n",
        "\n",
        "lista_saldos.append(10)\n",
        "print(\"Lista:\",lista_saldos)\n",
        "\n",
        "lista_saldos.append(-12)\n",
        "print(\"Lista:\",lista_saldos)\n",
        "\n",
        "lista_saldos.append(30)\n",
        "print(\"Lista:\",lista_saldos)\n",
        "\n",
        "lista_saldos.append(-10)\n",
        "print(\"Lista:\",lista_saldos)"
      ],
      "execution_count": null,
      "outputs": [
        {
          "output_type": "stream",
          "text": [
            "Lista: []\n",
            "Lista: [10]\n",
            "Lista: [10, -12]\n",
            "Lista: [10, -12, 30]\n",
            "Lista: [10, -12, 30, -10]\n"
          ],
          "name": "stdout"
        }
      ]
    },
    {
      "cell_type": "markdown",
      "metadata": {
        "id": "QoiQCwj56fbJ"
      },
      "source": [
        "Então iremos usar uma lista ``lista_saldos`` inicialmente vazia.\n",
        "\n",
        "Cada vez que atualizarmos o saldo, vamos colocar o saldo no fim da lista usando a função ``append``:"
      ]
    },
    {
      "cell_type": "code",
      "metadata": {
        "id": "tleiKbta5vf9"
      },
      "source": [
        "import pandas as pd\n",
        "import matplotlib.pyplot as plt\n",
        "%matplotlib inline\n",
        "\n",
        "jan = \"https://drive.google.com/u/1/uc?id=17sjfD-oEy4aXoYcQ6nAzTpeeMypLv-lB&export=download\"\n",
        "fev = \"https://drive.google.com/u/1/uc?id=1tLetEAZ0US1OLs6Vi8GlU08Owgb-Yuww&export=download\"\n",
        "mar = \"https://drive.google.com/u/1/uc?id=1V8oHM9V9vNvUrVUFmqf98BwDqsk9a6w5&export=download\"\n",
        "urls = [jan, fev, mar]\n",
        "\n",
        "saldo = 0\n",
        "lista_saldos = []\n",
        "\n",
        "for i in range(0,len(urls)):\n",
        "    df = pd.read_csv(urls[i])\n",
        "    mensal = df[\"Valor\"].sum()\n",
        "    saldo = saldo + mensal\n",
        "    lista_saldos.append(saldo)"
      ],
      "execution_count": null,
      "outputs": []
    },
    {
      "cell_type": "markdown",
      "metadata": {
        "id": "4PMG7iM66yug"
      },
      "source": [
        "Veja como ficou nossa lista de saldos:"
      ]
    },
    {
      "cell_type": "code",
      "metadata": {
        "id": "77zOwFCI5-HU"
      },
      "source": [
        "lista_saldos"
      ],
      "execution_count": null,
      "outputs": []
    },
    {
      "cell_type": "markdown",
      "metadata": {
        "id": "RrdTR7Ca652T"
      },
      "source": [
        "E agora podemos fazer o gráfico. Para o eixo x, vamos usar ``range(0,len(lista_saldos))``"
      ]
    },
    {
      "cell_type": "code",
      "metadata": {
        "id": "s9YOpT5M64C8"
      },
      "source": [
        "plt.plot(range(0,len(lista_saldos)), lista_saldos, 'o')"
      ],
      "execution_count": null,
      "outputs": []
    },
    {
      "cell_type": "markdown",
      "metadata": {
        "id": "PcKO0bhX7QcU"
      },
      "source": [
        "Uma vantagem desta segunda maneira é que usamos a função plot apenas uma vez.\n",
        "\n",
        "Além disso, fica mais fácil ligar os pontos com uma reta:"
      ]
    },
    {
      "cell_type": "code",
      "metadata": {
        "id": "u31nT_Ed7Kuv"
      },
      "source": [
        "plt.plot(range(0,len(lista_saldos)), lista_saldos, 'o-')"
      ],
      "execution_count": null,
      "outputs": []
    }
  ]
}