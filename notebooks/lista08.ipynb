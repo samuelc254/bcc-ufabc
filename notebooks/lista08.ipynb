{
 "cells": [
  {
   "cell_type": "code",
   "execution_count": 12,
   "metadata": {},
   "outputs": [
    {
     "name": "stdout",
     "output_type": "stream",
     "text": [
      "IMPAR\n",
      "PAR\n",
      "IMPAR\n",
      "PAR\n"
     ]
    }
   ],
   "source": [
    "## Lista 08, Exercicio 01\n",
    "## Aluno: Samuel Oliveira Costa\n",
    "## RA: 11202320170\n",
    "\n",
    "while (n := int(input(\"Digite um numero: \"))) >= 0:\n",
    "    print(\"IMPAR\" if ((n % 2) == 1) else \"PAR\")"
   ]
  },
  {
   "cell_type": "code",
   "execution_count": 16,
   "metadata": {},
   "outputs": [
    {
     "name": "stdout",
     "output_type": "stream",
     "text": [
      "3\n"
     ]
    }
   ],
   "source": [
    "## Aluno: Samuel Oliveira Costa\n",
    "## RA: 11202320170\n",
    "\n",
    "lista = [int(input()) for _ in range(int(input()))]\n",
    "print(sum(1 for n in lista if (n % 3 == 0) or (n % 5 == 0)))"
   ]
  },
  {
   "cell_type": "code",
   "execution_count": 27,
   "metadata": {},
   "outputs": [
    {
     "name": "stdout",
     "output_type": "stream",
     "text": [
      "Intervalo Vazio\n"
     ]
    }
   ],
   "source": [
    "## Aluno: Samuel Oliveira Costa\n",
    "## RA: 11202320170\n",
    "\n",
    "import numpy as np\n",
    "\n",
    "intervalo = np.arange(int(input()), int(input()) + 1)\n",
    "print(sum(intervalo) if len(intervalo) != 0 else \"Intervalo Vazio\")"
   ]
  },
  {
   "cell_type": "code",
   "execution_count": 46,
   "metadata": {},
   "outputs": [
    {
     "name": "stdout",
     "output_type": "stream",
     "text": [
      "3.1415\n"
     ]
    }
   ],
   "source": [
    "## Aluno: Samuel Oliveira Costa\n",
    "## RA: 11202320170\n",
    "\n",
    "print(f\"{(4*sum(((-1) ** k) / (2 * k + 1) for k in range(int(input())))):.4f}\")"
   ]
  }
 ],
 "metadata": {
  "language_info": {
   "name": "python"
  }
 },
 "nbformat": 4,
 "nbformat_minor": 2
}
