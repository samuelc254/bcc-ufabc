{
 "cells": [
  {
   "cell_type": "markdown",
   "metadata": {},
   "source": [
    "#### Lista 01"
   ]
  },
  {
   "cell_type": "code",
   "execution_count": 9,
   "metadata": {},
   "outputs": [
    {
     "name": "stdout",
     "output_type": "stream",
     "text": [
      "49.44\n"
     ]
    }
   ],
   "source": [
    "## Lista 01, Exercicio 01\n",
    "## Aluno: Samuel Oliveira Costa\n",
    "## RA: 11202320170\n",
    "F = 121\n",
    "C = (F - 32) * (5/9)\n",
    "print(\"%.2f\" % C)"
   ]
  },
  {
   "cell_type": "code",
   "execution_count": 10,
   "metadata": {},
   "outputs": [
    {
     "name": "stdout",
     "output_type": "stream",
     "text": [
      "1963.5\n"
     ]
    }
   ],
   "source": [
    "## Lista 01, Exercicio 02\n",
    "## Aluno: Samuel Oliveira Costa\n",
    "## RA: 11202320170\n",
    "import math\n",
    "r = 12.5\n",
    "A = 4 * math.pi * r**2\n",
    "print(\"%.1f\"%A)"
   ]
  },
  {
   "cell_type": "code",
   "execution_count": 11,
   "metadata": {},
   "outputs": [
    {
     "name": "stdout",
     "output_type": "stream",
     "text": [
      "14\n"
     ]
    }
   ],
   "source": [
    "## Lista 01, Exercicio 03\n",
    "## Aluno: Samuel Oliveira Costa\n",
    "## RA: 11202320170\n",
    "import math\n",
    "a = 5\n",
    "b = 8\n",
    "c = 12\n",
    "p = (a + b + c) / 2\n",
    "A = math.sqrt(p * (p - a) * (p - b) * (p - c))\n",
    "print(int(A))"
   ]
  },
  {
   "cell_type": "code",
   "execution_count": 12,
   "metadata": {},
   "outputs": [
    {
     "name": "stdout",
     "output_type": "stream",
     "text": [
      "O vazamento desperdiçou 0.01 litros de água\n"
     ]
    }
   ],
   "source": [
    "## Lista 01, Exercicio 04\n",
    "## Aluno: Samuel Oliveira Costa\n",
    "## RA: 11202320170\n",
    "VolumeGota = 0.05\n",
    "DiasPingando = 3\n",
    "VolumeDesperdicio = (3600*24*DiasPingando) * VolumeGota * (10 ** (-6))\n",
    "print(\"O vazamento desperdiçou %.2f\"% VolumeDesperdicio, \"litros de água\")"
   ]
  },
  {
   "cell_type": "markdown",
   "metadata": {},
   "source": [
    "### Lista 02"
   ]
  },
  {
   "cell_type": "code",
   "execution_count": 13,
   "metadata": {},
   "outputs": [
    {
     "name": "stdout",
     "output_type": "stream",
     "text": [
      "Forma um triângulo\n"
     ]
    }
   ],
   "source": [
    "## Lista 02, Exercicio 01\n",
    "## Aluno: Samuel Oliveira Costa\n",
    "## RA: 11202320170\n",
    "a = float(input(\"Digite o valor do lado a: \"))\n",
    "b = float(input(\"Digite o valor do lado b: \"))\n",
    "c = float(input(\"Digite o valor do lado c: \"))\n",
    "\n",
    "if a > 0 and b > 0 and c > 0 and (a + b > c) and (a + c > b) and (b + c > a):\n",
    "    print(\"Forma um triângulo\")\n",
    "else:\n",
    "    print(\"Não forma um triângulo\")"
   ]
  },
  {
   "cell_type": "code",
   "execution_count": 14,
   "metadata": {},
   "outputs": [
    {
     "name": "stdout",
     "output_type": "stream",
     "text": [
      "Não forma um triângulo\n"
     ]
    }
   ],
   "source": [
    "## Lista 02, Exercicio 02\n",
    "## Aluno: Samuel Oliveira Costa\n",
    "## RA: 11202320170\n",
    "a = float(input(\"Digite o valor do lado a: \"))\n",
    "b = float(input(\"Digite o valor do lado b: \"))\n",
    "c = float(input(\"Digite o valor do lado c: \"))\n",
    "\n",
    "if a > 0 and b > 0 and c > 0 and (a + b > c) and (a + c > b) and (b + c > a):\n",
    "    if a == b and b == c:\n",
    "        print(\"Triângulo equilátero\")\n",
    "    elif a == b or b == c or a == c:\n",
    "        print(\"Triângulo isósceles\")\n",
    "    else:\n",
    "        print(\"Triângulo escaleno\")\n",
    "else:\n",
    "    print(\"Não forma um triângulo\")"
   ]
  },
  {
   "cell_type": "code",
   "execution_count": 15,
   "metadata": {},
   "outputs": [
    {
     "name": "stdout",
     "output_type": "stream",
     "text": [
      "4 5 5\n"
     ]
    }
   ],
   "source": [
    "## Lista 02, Exercicio 03\n",
    "## Aluno: Samuel Oliveira Costa\n",
    "## RA: 11202320170\n",
    "a = int(input(\"Digite o valor de a: \"))\n",
    "b = int(input(\"Digite o valor de b: \"))\n",
    "c = int(input(\"Digite o valor de c: \"))\n",
    "\n",
    "if a <= b and a <= c:\n",
    "    if b <= c:\n",
    "        print(a, b, c)\n",
    "    else:\n",
    "        print(a, c, b)\n",
    "elif b <= a and b <= c:\n",
    "    if a <= c:\n",
    "        print(b, a, c)\n",
    "    else:\n",
    "        print(b, c, a)\n",
    "elif a <= b:\n",
    "    print(c, a, b)\n",
    "else:\n",
    "    print(c, b, a)"
   ]
  },
  {
   "cell_type": "code",
   "execution_count": 18,
   "metadata": {},
   "outputs": [
    {
     "name": "stdout",
     "output_type": "stream",
     "text": [
      "Ruído entre um cortador de grama e um rádio-relógio\n"
     ]
    }
   ],
   "source": [
    "## Lista 02, Exercicio 04\n",
    "## Aluno: Samuel Oliveira Costa\n",
    "## RA: 11202320170\n",
    "d = int(input(\"Insira os decibeis: \"))\n",
    "\n",
    "britadeira = [130, \"uma britadeira\"]\n",
    "cortador = [106, \"um cortador de grama\"]\n",
    "radio = [70, \"um rádio-relógio\"]\n",
    "sala = [40, \"uma sala silenciosa\"]\n",
    "\n",
    "if d == britadeira[0]:\n",
    "    print(f\"Ruído igual a {britadeira[1]}\")\n",
    "elif d == cortador[0]:\n",
    "    print(f\"Ruído igual a {cortador[1]}\")\n",
    "elif d == radio[0]:\n",
    "    print(f\"Ruído igual a {radio[1]}\")\n",
    "elif d == sala[0]:\n",
    "    print(f\"Ruído igual a {sala[1]}\")\n",
    "elif d > britadeira[0] or d < sala[0]:\n",
    "    print(\"Valor em decibel fora do intervalo\")\n",
    "elif d > cortador[0]:\n",
    "    print(f\"Ruído entre {britadeira[1]} e {cortador[1]}\")\n",
    "elif d > radio[0]:\n",
    "    print(f\"Ruído entre {cortador[1]} e {radio[1]}\")\n",
    "else:\n",
    "    print(f\"Ruído entre {radio[1]} e {sala[1]}\")"
   ]
  },
  {
   "cell_type": "markdown",
   "metadata": {},
   "source": [
    "### Lista 03"
   ]
  }
 ],
 "metadata": {
  "kernelspec": {
   "display_name": "Python 3",
   "language": "python",
   "name": "python3"
  },
  "language_info": {
   "codemirror_mode": {
    "name": "ipython",
    "version": 3
   },
   "file_extension": ".py",
   "mimetype": "text/x-python",
   "name": "python",
   "nbconvert_exporter": "python",
   "pygments_lexer": "ipython3",
   "version": "3.10.13"
  }
 },
 "nbformat": 4,
 "nbformat_minor": 2
}
